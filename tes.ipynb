{
 "cells": [
  {
   "cell_type": "code",
   "execution_count": 1,
   "id": "715ed698",
   "metadata": {},
   "outputs": [],
   "source": [
    "#import kagglehub\n",
    "\n",
    "# Download latest version\n",
    "#path = kagglehub.dataset_download(\"yuanyuwendymu/airline-delay-and-cancellation-data-2009-2018\")\n",
    "\n",
    "#print(\"Path to dataset files:\", path)\n"
   ]
  },
  {
   "cell_type": "markdown",
   "id": "eff49514",
   "metadata": {},
   "source": [
    "## KASUS KLASIFIKASI PENERBANGAN CANCEL"
   ]
  },
  {
   "cell_type": "code",
   "execution_count": 1,
   "id": "cdc39ece",
   "metadata": {},
   "outputs": [],
   "source": [
    "from pyspark import SparkContext, SparkConf\n",
    "from pyspark.sql import SparkSession\n",
    "import pyspark.sql.functions as F\n",
    "from pyspark.sql.functions import col,sum\n",
    "import pyspark.sql.types as T \n",
    "from pyspark.ml.feature import OneHotEncoder, StringIndexer, VectorAssembler\n",
    "from pyspark.ml import Pipeline\n",
    "from pyspark.ml.classification import LogisticRegression, DecisionTreeClassifier, RandomForestClassifier, GBTClassifier\n",
    "from pyspark.ml.evaluation import BinaryClassificationEvaluator, MulticlassClassificationEvaluator\n",
    "\n",
    "import warnings\n",
    "warnings.filterwarnings('ignore')"
   ]
  },
  {
   "cell_type": "code",
   "execution_count": 2,
   "id": "2913e7d1",
   "metadata": {},
   "outputs": [],
   "source": [
    "import pandas as pd"
   ]
  },
  {
   "cell_type": "code",
   "execution_count": 3,
   "id": "057b3474",
   "metadata": {},
   "outputs": [],
   "source": [
    "spark = SparkSession.builder.config(\"spark.executor.memory\",\"4g\").config(\"spark.driver.memory\", \"4g\").getOrCreate()\n",
    "spark.sparkContext.setLogLevel(\"ERROR\")"
   ]
  },
  {
   "cell_type": "code",
   "execution_count": 6,
   "id": "675e8ccd",
   "metadata": {},
   "outputs": [],
   "source": [
    "file_names_range = list(range(2013, 2018))\n",
    "file_paths = [fr'C:\\Users\\khansa resqi\\.cache\\kagglehub\\datasets\\yuanyuwendymu\\airline-delay-and-cancellation-data-2009-2018\\versions\\1\\{file}.csv' for file in file_names_range]\n",
    "#file_paths = [fr'C:\\Users\\Farhan\\.cache\\kagglehub\\datasets\\yuanyuwendymu\\airline-delay-and-cancellation-data-2009-2018\\versions\\1\\{file}.csv' for file in file_names_range]"
   ]
  },
  {
   "cell_type": "code",
   "execution_count": 7,
   "id": "ff8f6f82",
   "metadata": {},
   "outputs": [],
   "source": [
    "schema = T.StructType([\n",
    "    T.StructField(\"FL_DATE\", T.TimestampType(), nullable=True),\n",
    "    T.StructField(\"OP_CARRIER\", T.StringType(), nullable=True),\n",
    "    T.StructField(\"OP_CARRIER_FL_NUM\", T.IntegerType(), nullable=True),\n",
    "    T.StructField(\"ORIGIN\", T.StringType(), nullable=True),\n",
    "    T.StructField(\"DEST\", T.StringType(), nullable=True),\n",
    "    T.StructField(\"CRS_DEP_TIME\", T.DoubleType(), nullable=True),\n",
    "    T.StructField(\"DEP_TIME\", T.DoubleType(), nullable=True),\n",
    "    T.StructField(\"DEP_DELAY\", T.DoubleType(), nullable=True),\n",
    "    T.StructField(\"TAXI_OUT\", T.DoubleType(), nullable=True),\n",
    "    T.StructField(\"WHEELS_OFF\", T.DoubleType(), nullable=True),\n",
    "    T.StructField(\"WHEELS_ON\", T.DoubleType(), nullable=True),\n",
    "    T.StructField(\"TAXI_IN\", T.DoubleType(), nullable=True),\n",
    "    T.StructField(\"CRS_ARR_TIME\", T.DoubleType(), nullable=True),\n",
    "    T.StructField(\"ARR_TIME\",T.DoubleType(), nullable=True),\n",
    "    T.StructField(\"ARR_DELAY\", T.DoubleType(), nullable=True),\n",
    "    T.StructField(\"CANCELLED\", T.DoubleType(), nullable=True),\n",
    "    T.StructField(\"CANCELLATION_CODE\", T.StringType(), nullable=True),\n",
    "    T.StructField(\"DIVERTED\", T.DoubleType(), nullable=True),\n",
    "    T.StructField(\"CRS_ELAPSED_TIME\", T.DoubleType(), nullable=True),\n",
    "    T.StructField(\"ACTUAL_ELAPSED_TIME\", T.DoubleType(), nullable=True),\n",
    "    T.StructField(\"AIR_TIME\", T.DoubleType(), nullable=True),\n",
    "    T.StructField(\"DISTANCE\", T.DoubleType(), nullable=True),\n",
    "    T.StructField(\"CARRIER_DELAY\", T.DoubleType(), nullable=True),\n",
    "    T.StructField(\"WEATHER_DELAY\", T.DoubleType(), nullable=True),\n",
    "    T.StructField(\"NAS_DELAY\", T.DoubleType(), nullable=True),\n",
    "    T.StructField(\"SECURITY_DELAY\", T.DoubleType(), nullable=True),\n",
    "    T.StructField(\"LATE_AIRCRAFT_DELAY\", T.DoubleType(), nullable=True),\n",
    "    T.StructField(\"Unnamed: 27\", T.StringType(), nullable=True)\n",
    "])"
   ]
  },
  {
   "cell_type": "code",
   "execution_count": 8,
   "id": "17833673",
   "metadata": {},
   "outputs": [],
   "source": [
    "df = spark.read.schema(schema).format(\"csv\").option(\"header\", \"true\").load(file_paths)"
   ]
  },
  {
   "cell_type": "code",
   "execution_count": 9,
   "id": "062fe9d5",
   "metadata": {},
   "outputs": [
    {
     "data": {
      "text/html": [
       "<div>\n",
       "<style scoped>\n",
       "    .dataframe tbody tr th:only-of-type {\n",
       "        vertical-align: middle;\n",
       "    }\n",
       "\n",
       "    .dataframe tbody tr th {\n",
       "        vertical-align: top;\n",
       "    }\n",
       "\n",
       "    .dataframe thead th {\n",
       "        text-align: right;\n",
       "    }\n",
       "</style>\n",
       "<table border=\"1\" class=\"dataframe\">\n",
       "  <thead>\n",
       "    <tr style=\"text-align: right;\">\n",
       "      <th></th>\n",
       "      <th>FL_DATE</th>\n",
       "      <th>OP_CARRIER</th>\n",
       "      <th>OP_CARRIER_FL_NUM</th>\n",
       "      <th>ORIGIN</th>\n",
       "      <th>DEST</th>\n",
       "      <th>CRS_DEP_TIME</th>\n",
       "      <th>DEP_TIME</th>\n",
       "      <th>DEP_DELAY</th>\n",
       "      <th>TAXI_OUT</th>\n",
       "      <th>WHEELS_OFF</th>\n",
       "      <th>...</th>\n",
       "      <th>CRS_ELAPSED_TIME</th>\n",
       "      <th>ACTUAL_ELAPSED_TIME</th>\n",
       "      <th>AIR_TIME</th>\n",
       "      <th>DISTANCE</th>\n",
       "      <th>CARRIER_DELAY</th>\n",
       "      <th>WEATHER_DELAY</th>\n",
       "      <th>NAS_DELAY</th>\n",
       "      <th>SECURITY_DELAY</th>\n",
       "      <th>LATE_AIRCRAFT_DELAY</th>\n",
       "      <th>Unnamed: 27</th>\n",
       "    </tr>\n",
       "  </thead>\n",
       "  <tbody>\n",
       "    <tr>\n",
       "      <th>0</th>\n",
       "      <td>2013-01-01</td>\n",
       "      <td>VX</td>\n",
       "      <td>108</td>\n",
       "      <td>LAX</td>\n",
       "      <td>IAD</td>\n",
       "      <td>700.0</td>\n",
       "      <td>700.0</td>\n",
       "      <td>0.0</td>\n",
       "      <td>8.0</td>\n",
       "      <td>708.0</td>\n",
       "      <td>...</td>\n",
       "      <td>285.0</td>\n",
       "      <td>258.0</td>\n",
       "      <td>243.0</td>\n",
       "      <td>2288.0</td>\n",
       "      <td>NaN</td>\n",
       "      <td>NaN</td>\n",
       "      <td>NaN</td>\n",
       "      <td>NaN</td>\n",
       "      <td>NaN</td>\n",
       "      <td>None</td>\n",
       "    </tr>\n",
       "    <tr>\n",
       "      <th>1</th>\n",
       "      <td>2013-01-01</td>\n",
       "      <td>VX</td>\n",
       "      <td>114</td>\n",
       "      <td>LAX</td>\n",
       "      <td>IAD</td>\n",
       "      <td>2205.0</td>\n",
       "      <td>2204.0</td>\n",
       "      <td>-1.0</td>\n",
       "      <td>12.0</td>\n",
       "      <td>2216.0</td>\n",
       "      <td>...</td>\n",
       "      <td>280.0</td>\n",
       "      <td>272.0</td>\n",
       "      <td>247.0</td>\n",
       "      <td>2288.0</td>\n",
       "      <td>NaN</td>\n",
       "      <td>NaN</td>\n",
       "      <td>NaN</td>\n",
       "      <td>NaN</td>\n",
       "      <td>NaN</td>\n",
       "      <td>None</td>\n",
       "    </tr>\n",
       "    <tr>\n",
       "      <th>2</th>\n",
       "      <td>2013-01-01</td>\n",
       "      <td>VX</td>\n",
       "      <td>11</td>\n",
       "      <td>JFK</td>\n",
       "      <td>SFO</td>\n",
       "      <td>730.0</td>\n",
       "      <td>729.0</td>\n",
       "      <td>-1.0</td>\n",
       "      <td>18.0</td>\n",
       "      <td>747.0</td>\n",
       "      <td>...</td>\n",
       "      <td>405.0</td>\n",
       "      <td>380.0</td>\n",
       "      <td>356.0</td>\n",
       "      <td>2586.0</td>\n",
       "      <td>NaN</td>\n",
       "      <td>NaN</td>\n",
       "      <td>NaN</td>\n",
       "      <td>NaN</td>\n",
       "      <td>NaN</td>\n",
       "      <td>None</td>\n",
       "    </tr>\n",
       "    <tr>\n",
       "      <th>3</th>\n",
       "      <td>2013-01-01</td>\n",
       "      <td>VX</td>\n",
       "      <td>121</td>\n",
       "      <td>PHL</td>\n",
       "      <td>LAX</td>\n",
       "      <td>700.0</td>\n",
       "      <td>700.0</td>\n",
       "      <td>0.0</td>\n",
       "      <td>14.0</td>\n",
       "      <td>714.0</td>\n",
       "      <td>...</td>\n",
       "      <td>360.0</td>\n",
       "      <td>374.0</td>\n",
       "      <td>352.0</td>\n",
       "      <td>2402.0</td>\n",
       "      <td>NaN</td>\n",
       "      <td>NaN</td>\n",
       "      <td>NaN</td>\n",
       "      <td>NaN</td>\n",
       "      <td>NaN</td>\n",
       "      <td>None</td>\n",
       "    </tr>\n",
       "    <tr>\n",
       "      <th>4</th>\n",
       "      <td>2013-01-01</td>\n",
       "      <td>VX</td>\n",
       "      <td>124</td>\n",
       "      <td>LAX</td>\n",
       "      <td>PHL</td>\n",
       "      <td>1100.0</td>\n",
       "      <td>1104.0</td>\n",
       "      <td>4.0</td>\n",
       "      <td>12.0</td>\n",
       "      <td>1116.0</td>\n",
       "      <td>...</td>\n",
       "      <td>315.0</td>\n",
       "      <td>273.0</td>\n",
       "      <td>252.0</td>\n",
       "      <td>2402.0</td>\n",
       "      <td>NaN</td>\n",
       "      <td>NaN</td>\n",
       "      <td>NaN</td>\n",
       "      <td>NaN</td>\n",
       "      <td>NaN</td>\n",
       "      <td>None</td>\n",
       "    </tr>\n",
       "  </tbody>\n",
       "</table>\n",
       "<p>5 rows × 28 columns</p>\n",
       "</div>"
      ],
      "text/plain": [
       "     FL_DATE OP_CARRIER  OP_CARRIER_FL_NUM ORIGIN DEST  CRS_DEP_TIME  \\\n",
       "0 2013-01-01         VX                108    LAX  IAD         700.0   \n",
       "1 2013-01-01         VX                114    LAX  IAD        2205.0   \n",
       "2 2013-01-01         VX                 11    JFK  SFO         730.0   \n",
       "3 2013-01-01         VX                121    PHL  LAX         700.0   \n",
       "4 2013-01-01         VX                124    LAX  PHL        1100.0   \n",
       "\n",
       "   DEP_TIME  DEP_DELAY  TAXI_OUT  WHEELS_OFF  ...  CRS_ELAPSED_TIME  \\\n",
       "0     700.0        0.0       8.0       708.0  ...             285.0   \n",
       "1    2204.0       -1.0      12.0      2216.0  ...             280.0   \n",
       "2     729.0       -1.0      18.0       747.0  ...             405.0   \n",
       "3     700.0        0.0      14.0       714.0  ...             360.0   \n",
       "4    1104.0        4.0      12.0      1116.0  ...             315.0   \n",
       "\n",
       "   ACTUAL_ELAPSED_TIME  AIR_TIME  DISTANCE  CARRIER_DELAY  WEATHER_DELAY  \\\n",
       "0                258.0     243.0    2288.0            NaN            NaN   \n",
       "1                272.0     247.0    2288.0            NaN            NaN   \n",
       "2                380.0     356.0    2586.0            NaN            NaN   \n",
       "3                374.0     352.0    2402.0            NaN            NaN   \n",
       "4                273.0     252.0    2402.0            NaN            NaN   \n",
       "\n",
       "  NAS_DELAY  SECURITY_DELAY  LATE_AIRCRAFT_DELAY  Unnamed: 27  \n",
       "0       NaN             NaN                  NaN         None  \n",
       "1       NaN             NaN                  NaN         None  \n",
       "2       NaN             NaN                  NaN         None  \n",
       "3       NaN             NaN                  NaN         None  \n",
       "4       NaN             NaN                  NaN         None  \n",
       "\n",
       "[5 rows x 28 columns]"
      ]
     },
     "execution_count": 9,
     "metadata": {},
     "output_type": "execute_result"
    }
   ],
   "source": [
    "df.limit(5).toPandas()  "
   ]
  },
  {
   "cell_type": "code",
   "execution_count": 10,
   "id": "42c75961",
   "metadata": {},
   "outputs": [
    {
     "name": "stdout",
     "output_type": "stream",
     "text": [
      "root\n",
      " |-- FL_DATE: timestamp (nullable = true)\n",
      " |-- OP_CARRIER: string (nullable = true)\n",
      " |-- OP_CARRIER_FL_NUM: integer (nullable = true)\n",
      " |-- ORIGIN: string (nullable = true)\n",
      " |-- DEST: string (nullable = true)\n",
      " |-- CRS_DEP_TIME: double (nullable = true)\n",
      " |-- DEP_TIME: double (nullable = true)\n",
      " |-- DEP_DELAY: double (nullable = true)\n",
      " |-- TAXI_OUT: double (nullable = true)\n",
      " |-- WHEELS_OFF: double (nullable = true)\n",
      " |-- WHEELS_ON: double (nullable = true)\n",
      " |-- TAXI_IN: double (nullable = true)\n",
      " |-- CRS_ARR_TIME: double (nullable = true)\n",
      " |-- ARR_TIME: double (nullable = true)\n",
      " |-- ARR_DELAY: double (nullable = true)\n",
      " |-- CANCELLED: double (nullable = true)\n",
      " |-- CANCELLATION_CODE: string (nullable = true)\n",
      " |-- DIVERTED: double (nullable = true)\n",
      " |-- CRS_ELAPSED_TIME: double (nullable = true)\n",
      " |-- ACTUAL_ELAPSED_TIME: double (nullable = true)\n",
      " |-- AIR_TIME: double (nullable = true)\n",
      " |-- DISTANCE: double (nullable = true)\n",
      " |-- CARRIER_DELAY: double (nullable = true)\n",
      " |-- WEATHER_DELAY: double (nullable = true)\n",
      " |-- NAS_DELAY: double (nullable = true)\n",
      " |-- SECURITY_DELAY: double (nullable = true)\n",
      " |-- LATE_AIRCRAFT_DELAY: double (nullable = true)\n",
      " |-- Unnamed: 27: string (nullable = true)\n",
      "\n"
     ]
    }
   ],
   "source": [
    "#Tipe data tiap kolom\n",
    "df.printSchema()"
   ]
  },
  {
   "cell_type": "code",
   "execution_count": 25,
   "id": "076297b1",
   "metadata": {},
   "outputs": [
    {
     "name": "stdout",
     "output_type": "stream",
     "text": [
      "+-------+----------+-----------------+------+----+------------+--------+---------+--------+----------+---------+-------+------------+--------+---------+---------+-----------------+--------+----------------+-------------------+--------+--------+-------------+-------------+---------+--------------+-------------------+-----------+\n",
      "|FL_DATE|OP_CARRIER|OP_CARRIER_FL_NUM|ORIGIN|DEST|CRS_DEP_TIME|DEP_TIME|DEP_DELAY|TAXI_OUT|WHEELS_OFF|WHEELS_ON|TAXI_IN|CRS_ARR_TIME|ARR_TIME|ARR_DELAY|CANCELLED|CANCELLATION_CODE|DIVERTED|CRS_ELAPSED_TIME|ACTUAL_ELAPSED_TIME|AIR_TIME|DISTANCE|CARRIER_DELAY|WEATHER_DELAY|NAS_DELAY|SECURITY_DELAY|LATE_AIRCRAFT_DELAY|Unnamed: 27|\n",
      "+-------+----------+-----------------+------+----+------------+--------+---------+--------+----------+---------+-------+------------+--------+---------+---------+-----------------+--------+----------------+-------------------+--------+--------+-------------+-------------+---------+--------------+-------------------+-----------+\n",
      "|      0|         0|                0|     0|   0|           0|  444340|   444375|  457464|    457460|   472934| 472934|           0|  472934|   531400|        0|         28839217|       0|              30|             531400|  531400|       0|     23733695|     23733695| 23733695|      23733695|           23733695|   29300651|\n",
      "+-------+----------+-----------------+------+----+------------+--------+---------+--------+----------+---------+-------+------------+--------+---------+---------+-----------------+--------+----------------+-------------------+--------+--------+-------------+-------------+---------+--------------+-------------------+-----------+\n",
      "\n"
     ]
    }
   ],
   "source": [
    "# Hitung jumlah null values di setiap kolom\n",
    "null_counts = df.select([F.count(F.when(F.col(c).isNull(), 1)).alias(c) for c in df.columns])\n",
    "null_counts.show()\n"
   ]
  },
  {
   "cell_type": "code",
   "execution_count": 26,
   "id": "df072142",
   "metadata": {},
   "outputs": [],
   "source": [
    "#Drop kolom yang tidak diperlukan berdasarkan jumlah null values\n",
    "classify_df = df.drop(\"Unnamed: 27\", \n",
    "                        \"CARRIER_DELAY\", \n",
    "                        \"WEATHER_DELAY\",\n",
    "                        \"NAS_DELAY\",\n",
    "                        \"SECURITY_DELAY\",\n",
    "                        \"LATE_AIRCRAFT_DELAY\",\n",
    "                        \"DEP_TIME\",\n",
    "                        \"DEP_DELAY\",\n",
    "                        \"TAXI_OUT\",\n",
    "                        \"WHEELS_OFF\",\n",
    "                        \"CANCELLATION_CODE\",\n",
    "                        \"WHEELS_ON\",\n",
    "                        \"TAXI_IN\",\n",
    "                        \"ARR_TIME\",\n",
    "                        \"ARR_DELAY\",\n",
    "                        \"ACTUAL_ELAPSED_TIME\", \n",
    "                        \"AIR_TIME\")"
   ]
  },
  {
   "cell_type": "code",
   "execution_count": 27,
   "id": "07836c88",
   "metadata": {},
   "outputs": [],
   "source": [
    "#Ubah tipe data kolom FL_DATE menjadi timestamp dengan jumlah detik \n",
    "classify_df = classify_df.withColumn(\"FL_DATE\", F.unix_timestamp(\"FL_DATE\"))"
   ]
  },
  {
   "cell_type": "code",
   "execution_count": 28,
   "id": "ec99dc86",
   "metadata": {},
   "outputs": [
    {
     "data": {
      "text/html": [
       "<div>\n",
       "<style scoped>\n",
       "    .dataframe tbody tr th:only-of-type {\n",
       "        vertical-align: middle;\n",
       "    }\n",
       "\n",
       "    .dataframe tbody tr th {\n",
       "        vertical-align: top;\n",
       "    }\n",
       "\n",
       "    .dataframe thead th {\n",
       "        text-align: right;\n",
       "    }\n",
       "</style>\n",
       "<table border=\"1\" class=\"dataframe\">\n",
       "  <thead>\n",
       "    <tr style=\"text-align: right;\">\n",
       "      <th></th>\n",
       "      <th>FL_DATE</th>\n",
       "      <th>OP_CARRIER</th>\n",
       "      <th>OP_CARRIER_FL_NUM</th>\n",
       "      <th>ORIGIN</th>\n",
       "      <th>DEST</th>\n",
       "      <th>CRS_DEP_TIME</th>\n",
       "      <th>CRS_ARR_TIME</th>\n",
       "      <th>CANCELLED</th>\n",
       "      <th>DIVERTED</th>\n",
       "      <th>CRS_ELAPSED_TIME</th>\n",
       "      <th>DISTANCE</th>\n",
       "    </tr>\n",
       "  </thead>\n",
       "  <tbody>\n",
       "    <tr>\n",
       "      <th>0</th>\n",
       "      <td>1356973200</td>\n",
       "      <td>VX</td>\n",
       "      <td>108</td>\n",
       "      <td>LAX</td>\n",
       "      <td>IAD</td>\n",
       "      <td>700.0</td>\n",
       "      <td>1445.0</td>\n",
       "      <td>0.0</td>\n",
       "      <td>0.0</td>\n",
       "      <td>285.0</td>\n",
       "      <td>2288.0</td>\n",
       "    </tr>\n",
       "    <tr>\n",
       "      <th>1</th>\n",
       "      <td>1356973200</td>\n",
       "      <td>VX</td>\n",
       "      <td>114</td>\n",
       "      <td>LAX</td>\n",
       "      <td>IAD</td>\n",
       "      <td>2205.0</td>\n",
       "      <td>545.0</td>\n",
       "      <td>0.0</td>\n",
       "      <td>0.0</td>\n",
       "      <td>280.0</td>\n",
       "      <td>2288.0</td>\n",
       "    </tr>\n",
       "    <tr>\n",
       "      <th>2</th>\n",
       "      <td>1356973200</td>\n",
       "      <td>VX</td>\n",
       "      <td>11</td>\n",
       "      <td>JFK</td>\n",
       "      <td>SFO</td>\n",
       "      <td>730.0</td>\n",
       "      <td>1115.0</td>\n",
       "      <td>0.0</td>\n",
       "      <td>0.0</td>\n",
       "      <td>405.0</td>\n",
       "      <td>2586.0</td>\n",
       "    </tr>\n",
       "    <tr>\n",
       "      <th>3</th>\n",
       "      <td>1356973200</td>\n",
       "      <td>VX</td>\n",
       "      <td>121</td>\n",
       "      <td>PHL</td>\n",
       "      <td>LAX</td>\n",
       "      <td>700.0</td>\n",
       "      <td>1000.0</td>\n",
       "      <td>0.0</td>\n",
       "      <td>0.0</td>\n",
       "      <td>360.0</td>\n",
       "      <td>2402.0</td>\n",
       "    </tr>\n",
       "    <tr>\n",
       "      <th>4</th>\n",
       "      <td>1356973200</td>\n",
       "      <td>VX</td>\n",
       "      <td>124</td>\n",
       "      <td>LAX</td>\n",
       "      <td>PHL</td>\n",
       "      <td>1100.0</td>\n",
       "      <td>1915.0</td>\n",
       "      <td>0.0</td>\n",
       "      <td>0.0</td>\n",
       "      <td>315.0</td>\n",
       "      <td>2402.0</td>\n",
       "    </tr>\n",
       "  </tbody>\n",
       "</table>\n",
       "</div>"
      ],
      "text/plain": [
       "      FL_DATE OP_CARRIER  OP_CARRIER_FL_NUM ORIGIN DEST  CRS_DEP_TIME  \\\n",
       "0  1356973200         VX                108    LAX  IAD         700.0   \n",
       "1  1356973200         VX                114    LAX  IAD        2205.0   \n",
       "2  1356973200         VX                 11    JFK  SFO         730.0   \n",
       "3  1356973200         VX                121    PHL  LAX         700.0   \n",
       "4  1356973200         VX                124    LAX  PHL        1100.0   \n",
       "\n",
       "   CRS_ARR_TIME  CANCELLED  DIVERTED  CRS_ELAPSED_TIME  DISTANCE  \n",
       "0        1445.0        0.0       0.0             285.0    2288.0  \n",
       "1         545.0        0.0       0.0             280.0    2288.0  \n",
       "2        1115.0        0.0       0.0             405.0    2586.0  \n",
       "3        1000.0        0.0       0.0             360.0    2402.0  \n",
       "4        1915.0        0.0       0.0             315.0    2402.0  "
      ]
     },
     "execution_count": 28,
     "metadata": {},
     "output_type": "execute_result"
    }
   ],
   "source": [
    "classify_df.limit(5).toPandas()"
   ]
  },
  {
   "cell_type": "code",
   "execution_count": 29,
   "id": "1f804610",
   "metadata": {},
   "outputs": [
    {
     "name": "stdout",
     "output_type": "stream",
     "text": [
      "+-------+----------+-----------------+------+----+------------+------------+---------+--------+----------------+--------+\n",
      "|FL_DATE|OP_CARRIER|OP_CARRIER_FL_NUM|ORIGIN|DEST|CRS_DEP_TIME|CRS_ARR_TIME|CANCELLED|DIVERTED|CRS_ELAPSED_TIME|DISTANCE|\n",
      "+-------+----------+-----------------+------+----+------------+------------+---------+--------+----------------+--------+\n",
      "|      0|         0|                0|     0|   0|           0|           0|        0|       0|              30|       0|\n",
      "+-------+----------+-----------------+------+----+------------+------------+---------+--------+----------------+--------+\n",
      "\n"
     ]
    }
   ],
   "source": [
    "# hitung jumlah null values di setiap kolom setelah drop kolom\n",
    "null_counts = classify_df.select([F.count(F.when(F.col(c).isNull(), 1)).alias(c) for c in classify_df.columns])\n",
    "\n",
    "null_counts.show()"
   ]
  },
  {
   "cell_type": "code",
   "execution_count": 30,
   "id": "66cf2444",
   "metadata": {},
   "outputs": [
    {
     "data": {
      "text/plain": [
       "['FL_DATE',\n",
       " 'OP_CARRIER',\n",
       " 'OP_CARRIER_FL_NUM',\n",
       " 'ORIGIN',\n",
       " 'DEST',\n",
       " 'CRS_DEP_TIME',\n",
       " 'CRS_ARR_TIME',\n",
       " 'CANCELLED',\n",
       " 'DIVERTED',\n",
       " 'CRS_ELAPSED_TIME',\n",
       " 'DISTANCE']"
      ]
     },
     "execution_count": 30,
     "metadata": {},
     "output_type": "execute_result"
    }
   ],
   "source": [
    "classify_df.columns"
   ]
  },
  {
   "cell_type": "code",
   "execution_count": 31,
   "id": "71df1d6b",
   "metadata": {},
   "outputs": [
    {
     "data": {
      "text/html": [
       "<div>\n",
       "<style scoped>\n",
       "    .dataframe tbody tr th:only-of-type {\n",
       "        vertical-align: middle;\n",
       "    }\n",
       "\n",
       "    .dataframe tbody tr th {\n",
       "        vertical-align: top;\n",
       "    }\n",
       "\n",
       "    .dataframe thead th {\n",
       "        text-align: right;\n",
       "    }\n",
       "</style>\n",
       "<table border=\"1\" class=\"dataframe\">\n",
       "  <thead>\n",
       "    <tr style=\"text-align: right;\">\n",
       "      <th></th>\n",
       "      <th>Carrier</th>\n",
       "      <th>count</th>\n",
       "    </tr>\n",
       "  </thead>\n",
       "  <tbody>\n",
       "    <tr>\n",
       "      <th>0</th>\n",
       "      <td>WN</td>\n",
       "      <td>6196080</td>\n",
       "    </tr>\n",
       "    <tr>\n",
       "      <th>1</th>\n",
       "      <td>DL</td>\n",
       "      <td>4277232</td>\n",
       "    </tr>\n",
       "    <tr>\n",
       "      <th>2</th>\n",
       "      <td>AA</td>\n",
       "      <td>3612415</td>\n",
       "    </tr>\n",
       "    <tr>\n",
       "      <th>3</th>\n",
       "      <td>OO</td>\n",
       "      <td>3140202</td>\n",
       "    </tr>\n",
       "    <tr>\n",
       "      <th>4</th>\n",
       "      <td>EV</td>\n",
       "      <td>2837225</td>\n",
       "    </tr>\n",
       "    <tr>\n",
       "      <th>5</th>\n",
       "      <td>UA</td>\n",
       "      <td>2644597</td>\n",
       "    </tr>\n",
       "    <tr>\n",
       "      <th>6</th>\n",
       "      <td>B6</td>\n",
       "      <td>1339645</td>\n",
       "    </tr>\n",
       "    <tr>\n",
       "      <th>7</th>\n",
       "      <td>MQ</td>\n",
       "      <td>1127198</td>\n",
       "    </tr>\n",
       "    <tr>\n",
       "      <th>8</th>\n",
       "      <td>US</td>\n",
       "      <td>1025753</td>\n",
       "    </tr>\n",
       "    <tr>\n",
       "      <th>9</th>\n",
       "      <td>AS</td>\n",
       "      <td>849869</td>\n",
       "    </tr>\n",
       "  </tbody>\n",
       "</table>\n",
       "</div>"
      ],
      "text/plain": [
       "  Carrier    count\n",
       "0      WN  6196080\n",
       "1      DL  4277232\n",
       "2      AA  3612415\n",
       "3      OO  3140202\n",
       "4      EV  2837225\n",
       "5      UA  2644597\n",
       "6      B6  1339645\n",
       "7      MQ  1127198\n",
       "8      US  1025753\n",
       "9      AS   849869"
      ]
     },
     "execution_count": 31,
     "metadata": {},
     "output_type": "execute_result"
    }
   ],
   "source": [
    "carriers_flight_count_df = classify_df.groupBy(F.col('OP_CARRIER')).count().orderBy(F.col('count').desc())\n",
    "top_10 = carriers_flight_count_df.limit(10).toPandas()\n",
    "top_10 = top_10.rename(columns={'OP_CARRIER':'Carrier'})\n",
    "top_10"
   ]
  },
  {
   "cell_type": "code",
   "execution_count": 32,
   "id": "b45a1843",
   "metadata": {},
   "outputs": [
    {
     "data": {
      "text/html": [
       "\n",
       "<style>\n",
       "  #altair-viz-ae9cf3d3216f4d2aa7d8638991a6c33f.vega-embed {\n",
       "    width: 100%;\n",
       "    display: flex;\n",
       "  }\n",
       "\n",
       "  #altair-viz-ae9cf3d3216f4d2aa7d8638991a6c33f.vega-embed details,\n",
       "  #altair-viz-ae9cf3d3216f4d2aa7d8638991a6c33f.vega-embed details summary {\n",
       "    position: relative;\n",
       "  }\n",
       "</style>\n",
       "<div id=\"altair-viz-ae9cf3d3216f4d2aa7d8638991a6c33f\"></div>\n",
       "<script type=\"text/javascript\">\n",
       "  var VEGA_DEBUG = (typeof VEGA_DEBUG == \"undefined\") ? {} : VEGA_DEBUG;\n",
       "  (function(spec, embedOpt){\n",
       "    let outputDiv = document.currentScript.previousElementSibling;\n",
       "    if (outputDiv.id !== \"altair-viz-ae9cf3d3216f4d2aa7d8638991a6c33f\") {\n",
       "      outputDiv = document.getElementById(\"altair-viz-ae9cf3d3216f4d2aa7d8638991a6c33f\");\n",
       "    }\n",
       "\n",
       "    const paths = {\n",
       "      \"vega\": \"https://cdn.jsdelivr.net/npm/vega@5?noext\",\n",
       "      \"vega-lib\": \"https://cdn.jsdelivr.net/npm/vega-lib?noext\",\n",
       "      \"vega-lite\": \"https://cdn.jsdelivr.net/npm/vega-lite@5.20.1?noext\",\n",
       "      \"vega-embed\": \"https://cdn.jsdelivr.net/npm/vega-embed@6?noext\",\n",
       "    };\n",
       "\n",
       "    function maybeLoadScript(lib, version) {\n",
       "      var key = `${lib.replace(\"-\", \"\")}_version`;\n",
       "      return (VEGA_DEBUG[key] == version) ?\n",
       "        Promise.resolve(paths[lib]) :\n",
       "        new Promise(function(resolve, reject) {\n",
       "          var s = document.createElement('script');\n",
       "          document.getElementsByTagName(\"head\")[0].appendChild(s);\n",
       "          s.async = true;\n",
       "          s.onload = () => {\n",
       "            VEGA_DEBUG[key] = version;\n",
       "            return resolve(paths[lib]);\n",
       "          };\n",
       "          s.onerror = () => reject(`Error loading script: ${paths[lib]}`);\n",
       "          s.src = paths[lib];\n",
       "        });\n",
       "    }\n",
       "\n",
       "    function showError(err) {\n",
       "      outputDiv.innerHTML = `<div class=\"error\" style=\"color:red;\">${err}</div>`;\n",
       "      throw err;\n",
       "    }\n",
       "\n",
       "    function displayChart(vegaEmbed) {\n",
       "      vegaEmbed(outputDiv, spec, embedOpt)\n",
       "        .catch(err => showError(`Javascript Error: ${err.message}<br>This usually means there's a typo in your chart specification. See the javascript console for the full traceback.`));\n",
       "    }\n",
       "\n",
       "    if(typeof define === \"function\" && define.amd) {\n",
       "      requirejs.config({paths});\n",
       "      let deps = [\"vega-embed\"];\n",
       "      require(deps, displayChart, err => showError(`Error loading script: ${err.message}`));\n",
       "    } else {\n",
       "      maybeLoadScript(\"vega\", \"5\")\n",
       "        .then(() => maybeLoadScript(\"vega-lite\", \"5.20.1\"))\n",
       "        .then(() => maybeLoadScript(\"vega-embed\", \"6\"))\n",
       "        .catch(showError)\n",
       "        .then(() => displayChart(vegaEmbed));\n",
       "    }\n",
       "  })({\"config\": {\"view\": {\"continuousWidth\": 300, \"continuousHeight\": 300, \"strokeWidth\": 0}, \"title\": {\"fontSize\": 18}}, \"layer\": [{\"mark\": {\"type\": \"arc\", \"innerRadius\": 75, \"outerRadius\": 260}, \"encoding\": {\"color\": {\"field\": \"Carrier\", \"legend\": null, \"scale\": {\"scheme\": \"category20\"}, \"type\": \"nominal\"}, \"theta\": {\"field\": \"count\", \"stack\": true, \"type\": \"quantitative\"}}, \"title\": \"Top 10 Carriers by amount of flights\"}, {\"mark\": {\"type\": \"text\", \"radius\": 200, \"size\": 15}, \"encoding\": {\"color\": {\"value\": \"#000000\"}, \"text\": {\"field\": \"Carrier\", \"type\": \"nominal\"}, \"theta\": {\"field\": \"count\", \"stack\": true, \"type\": \"quantitative\"}}, \"title\": \"Top 10 Carriers by amount of flights\"}, {\"mark\": {\"type\": \"text\", \"radius\": 300, \"size\": 15}, \"encoding\": {\"color\": {\"field\": \"Carrier\", \"legend\": null, \"scale\": {\"scheme\": \"category20\"}, \"type\": \"nominal\"}, \"text\": {\"field\": \"count\", \"type\": \"quantitative\"}, \"theta\": {\"field\": \"count\", \"stack\": true, \"type\": \"quantitative\"}}, \"title\": \"Top 10 Carriers by amount of flights\"}], \"data\": {\"name\": \"data-d35cfb27cb5cf75453faaa93d4118123\"}, \"height\": 300, \"width\": 600, \"$schema\": \"https://vega.github.io/schema/vega-lite/v5.20.1.json\", \"datasets\": {\"data-d35cfb27cb5cf75453faaa93d4118123\": [{\"Carrier\": \"WN\", \"count\": 6196080}, {\"Carrier\": \"DL\", \"count\": 4277232}, {\"Carrier\": \"AA\", \"count\": 3612415}, {\"Carrier\": \"OO\", \"count\": 3140202}, {\"Carrier\": \"EV\", \"count\": 2837225}, {\"Carrier\": \"UA\", \"count\": 2644597}, {\"Carrier\": \"B6\", \"count\": 1339645}, {\"Carrier\": \"MQ\", \"count\": 1127198}, {\"Carrier\": \"US\", \"count\": 1025753}, {\"Carrier\": \"AS\", \"count\": 849869}]}}, {\"mode\": \"vega-lite\"});\n",
       "</script>"
      ],
      "text/plain": [
       "alt.LayerChart(...)"
      ]
     },
     "execution_count": 32,
     "metadata": {},
     "output_type": "execute_result"
    }
   ],
   "source": [
    "\n",
    "import altair as alt\n",
    "chart = alt.Chart(top_10).mark_arc(outerRadius=260, innerRadius=75).encode(\n",
    "    theta = alt.Theta(field=\"count\", type=\"quantitative\", stack=True),\n",
    "    color = alt.Color('Carrier:N', scale=alt.Scale(scheme='category20'), legend=None),\n",
    ").properties(\n",
    "    title='Top 10 Carriers by amount of flights',\n",
    "    width=600,\n",
    "    height=300\n",
    ")\n",
    "\n",
    "pie = chart.mark_arc(outerRadius=350)\n",
    "value_text = pie.mark_text(radius=300, size=15).encode(text=alt.Text('count:Q'))\n",
    "\n",
    "pie2 = chart.mark_arc(outerRadius=250)\n",
    "text = pie2.mark_text(radius=200, size=15).encode(\n",
    "    text=alt.Text('Carrier:N'), \n",
    "    color=alt.value(\"#000000\")\n",
    ")\n",
    "\n",
    "(chart + text + value_text).configure_view(\n",
    "    strokeWidth=0\n",
    ").configure_title(\n",
    "    fontSize=18\n",
    ")"
   ]
  },
  {
   "cell_type": "code",
   "execution_count": 55,
   "id": "cdbe414a",
   "metadata": {},
   "outputs": [
    {
     "data": {
      "text/html": [
       "<div>\n",
       "<style scoped>\n",
       "    .dataframe tbody tr th:only-of-type {\n",
       "        vertical-align: middle;\n",
       "    }\n",
       "\n",
       "    .dataframe tbody tr th {\n",
       "        vertical-align: top;\n",
       "    }\n",
       "\n",
       "    .dataframe thead th {\n",
       "        text-align: right;\n",
       "    }\n",
       "</style>\n",
       "<table border=\"1\" class=\"dataframe\">\n",
       "  <thead>\n",
       "    <tr style=\"text-align: right;\">\n",
       "      <th></th>\n",
       "      <th>CANCELLATION_CODE</th>\n",
       "      <th>count</th>\n",
       "    </tr>\n",
       "  </thead>\n",
       "  <tbody>\n",
       "    <tr>\n",
       "      <th>0</th>\n",
       "      <td>B</td>\n",
       "      <td>233377</td>\n",
       "    </tr>\n",
       "    <tr>\n",
       "      <th>1</th>\n",
       "      <td>D</td>\n",
       "      <td>559</td>\n",
       "    </tr>\n",
       "    <tr>\n",
       "      <th>2</th>\n",
       "      <td>C</td>\n",
       "      <td>93047</td>\n",
       "    </tr>\n",
       "    <tr>\n",
       "      <th>3</th>\n",
       "      <td>A</td>\n",
       "      <td>134451</td>\n",
       "    </tr>\n",
       "  </tbody>\n",
       "</table>\n",
       "</div>"
      ],
      "text/plain": [
       "  CANCELLATION_CODE   count\n",
       "0                 B  233377\n",
       "1                 D     559\n",
       "2                 C   93047\n",
       "3                 A  134451"
      ]
     },
     "execution_count": 55,
     "metadata": {},
     "output_type": "execute_result"
    }
   ],
   "source": [
    "carriers_flight_count_df = df.filter(F.col('CANCELLATION_CODE').isNotNull()).groupBy(F.col('CANCELLATION_CODE')).count()\n",
    "cancellation_reasons = carriers_flight_count_df.toPandas()\n",
    "cancellation_reasons"
   ]
  },
  {
   "cell_type": "code",
   "execution_count": 56,
   "id": "afd01675",
   "metadata": {},
   "outputs": [],
   "source": [
    "cancellation_reasons['CANCELLATION_CODE'][cancellation_reasons['CANCELLATION_CODE'] == 'A'] = 'By carrier'\n",
    "cancellation_reasons['CANCELLATION_CODE'][cancellation_reasons['CANCELLATION_CODE'] == 'B'] = 'Due to weather'\n",
    "cancellation_reasons['CANCELLATION_CODE'][cancellation_reasons['CANCELLATION_CODE'] == 'C'] = 'By national air system'\n",
    "cancellation_reasons['CANCELLATION_CODE'][cancellation_reasons['CANCELLATION_CODE'] == 'D'] = 'For security'\n",
    "cancellation_reasons = cancellation_reasons.rename(columns={'CANCELLATION_CODE':'Reason'})"
   ]
  },
  {
   "cell_type": "code",
   "execution_count": 57,
   "id": "4d394bcf",
   "metadata": {},
   "outputs": [
    {
     "data": {
      "text/html": [
       "<div>\n",
       "<style scoped>\n",
       "    .dataframe tbody tr th:only-of-type {\n",
       "        vertical-align: middle;\n",
       "    }\n",
       "\n",
       "    .dataframe tbody tr th {\n",
       "        vertical-align: top;\n",
       "    }\n",
       "\n",
       "    .dataframe thead th {\n",
       "        text-align: right;\n",
       "    }\n",
       "</style>\n",
       "<table border=\"1\" class=\"dataframe\">\n",
       "  <thead>\n",
       "    <tr style=\"text-align: right;\">\n",
       "      <th></th>\n",
       "      <th>Reason</th>\n",
       "      <th>count</th>\n",
       "    </tr>\n",
       "  </thead>\n",
       "  <tbody>\n",
       "    <tr>\n",
       "      <th>0</th>\n",
       "      <td>Due to weather</td>\n",
       "      <td>233377</td>\n",
       "    </tr>\n",
       "    <tr>\n",
       "      <th>1</th>\n",
       "      <td>For security</td>\n",
       "      <td>559</td>\n",
       "    </tr>\n",
       "    <tr>\n",
       "      <th>2</th>\n",
       "      <td>By national air system</td>\n",
       "      <td>93047</td>\n",
       "    </tr>\n",
       "    <tr>\n",
       "      <th>3</th>\n",
       "      <td>By carrier</td>\n",
       "      <td>134451</td>\n",
       "    </tr>\n",
       "  </tbody>\n",
       "</table>\n",
       "</div>"
      ],
      "text/plain": [
       "                   Reason   count\n",
       "0          Due to weather  233377\n",
       "1            For security     559\n",
       "2  By national air system   93047\n",
       "3              By carrier  134451"
      ]
     },
     "execution_count": 57,
     "metadata": {},
     "output_type": "execute_result"
    }
   ],
   "source": [
    "cancellation_reasons"
   ]
  },
  {
   "cell_type": "code",
   "execution_count": 58,
   "id": "6207cad5",
   "metadata": {},
   "outputs": [
    {
     "data": {
      "text/html": [
       "\n",
       "<style>\n",
       "  #altair-viz-99ea50a9913848e29b5d59a57e9a7653.vega-embed {\n",
       "    width: 100%;\n",
       "    display: flex;\n",
       "  }\n",
       "\n",
       "  #altair-viz-99ea50a9913848e29b5d59a57e9a7653.vega-embed details,\n",
       "  #altair-viz-99ea50a9913848e29b5d59a57e9a7653.vega-embed details summary {\n",
       "    position: relative;\n",
       "  }\n",
       "</style>\n",
       "<div id=\"altair-viz-99ea50a9913848e29b5d59a57e9a7653\"></div>\n",
       "<script type=\"text/javascript\">\n",
       "  var VEGA_DEBUG = (typeof VEGA_DEBUG == \"undefined\") ? {} : VEGA_DEBUG;\n",
       "  (function(spec, embedOpt){\n",
       "    let outputDiv = document.currentScript.previousElementSibling;\n",
       "    if (outputDiv.id !== \"altair-viz-99ea50a9913848e29b5d59a57e9a7653\") {\n",
       "      outputDiv = document.getElementById(\"altair-viz-99ea50a9913848e29b5d59a57e9a7653\");\n",
       "    }\n",
       "\n",
       "    const paths = {\n",
       "      \"vega\": \"https://cdn.jsdelivr.net/npm/vega@5?noext\",\n",
       "      \"vega-lib\": \"https://cdn.jsdelivr.net/npm/vega-lib?noext\",\n",
       "      \"vega-lite\": \"https://cdn.jsdelivr.net/npm/vega-lite@5.20.1?noext\",\n",
       "      \"vega-embed\": \"https://cdn.jsdelivr.net/npm/vega-embed@6?noext\",\n",
       "    };\n",
       "\n",
       "    function maybeLoadScript(lib, version) {\n",
       "      var key = `${lib.replace(\"-\", \"\")}_version`;\n",
       "      return (VEGA_DEBUG[key] == version) ?\n",
       "        Promise.resolve(paths[lib]) :\n",
       "        new Promise(function(resolve, reject) {\n",
       "          var s = document.createElement('script');\n",
       "          document.getElementsByTagName(\"head\")[0].appendChild(s);\n",
       "          s.async = true;\n",
       "          s.onload = () => {\n",
       "            VEGA_DEBUG[key] = version;\n",
       "            return resolve(paths[lib]);\n",
       "          };\n",
       "          s.onerror = () => reject(`Error loading script: ${paths[lib]}`);\n",
       "          s.src = paths[lib];\n",
       "        });\n",
       "    }\n",
       "\n",
       "    function showError(err) {\n",
       "      outputDiv.innerHTML = `<div class=\"error\" style=\"color:red;\">${err}</div>`;\n",
       "      throw err;\n",
       "    }\n",
       "\n",
       "    function displayChart(vegaEmbed) {\n",
       "      vegaEmbed(outputDiv, spec, embedOpt)\n",
       "        .catch(err => showError(`Javascript Error: ${err.message}<br>This usually means there's a typo in your chart specification. See the javascript console for the full traceback.`));\n",
       "    }\n",
       "\n",
       "    if(typeof define === \"function\" && define.amd) {\n",
       "      requirejs.config({paths});\n",
       "      let deps = [\"vega-embed\"];\n",
       "      require(deps, displayChart, err => showError(`Error loading script: ${err.message}`));\n",
       "    } else {\n",
       "      maybeLoadScript(\"vega\", \"5\")\n",
       "        .then(() => maybeLoadScript(\"vega-lite\", \"5.20.1\"))\n",
       "        .then(() => maybeLoadScript(\"vega-embed\", \"6\"))\n",
       "        .catch(showError)\n",
       "        .then(() => displayChart(vegaEmbed));\n",
       "    }\n",
       "  })({\"config\": {\"view\": {\"continuousWidth\": 300, \"continuousHeight\": 300, \"strokeWidth\": 0}, \"title\": {\"fontSize\": 18}}, \"layer\": [{\"mark\": {\"type\": \"arc\", \"innerRadius\": 50, \"outerRadius\": 180}, \"encoding\": {\"color\": {\"field\": \"Reason\", \"legend\": null, \"scale\": {\"scheme\": \"category20\"}, \"type\": \"nominal\"}, \"theta\": {\"field\": \"count\", \"stack\": true, \"type\": \"quantitative\"}}, \"title\": \"Reasons for flight cancellations\"}, {\"mark\": {\"type\": \"text\", \"radius\": 120, \"size\": 12}, \"encoding\": {\"color\": {\"value\": \"#000000\"}, \"text\": {\"field\": \"Reason\", \"type\": \"nominal\"}, \"theta\": {\"field\": \"count\", \"stack\": true, \"type\": \"quantitative\"}}, \"title\": \"Reasons for flight cancellations\"}, {\"mark\": {\"type\": \"text\", \"radius\": 220, \"size\": 15}, \"encoding\": {\"color\": {\"field\": \"Reason\", \"legend\": null, \"scale\": {\"scheme\": \"category20\"}, \"type\": \"nominal\"}, \"text\": {\"field\": \"count\", \"type\": \"quantitative\"}, \"theta\": {\"field\": \"count\", \"stack\": true, \"type\": \"quantitative\"}}, \"title\": \"Reasons for flight cancellations\"}], \"data\": {\"name\": \"data-57c2c04c08c193f226b7dab25dc1e674\"}, \"height\": 300, \"width\": 600, \"$schema\": \"https://vega.github.io/schema/vega-lite/v5.20.1.json\", \"datasets\": {\"data-57c2c04c08c193f226b7dab25dc1e674\": [{\"Reason\": \"Due to weather\", \"count\": 233377}, {\"Reason\": \"For security\", \"count\": 559}, {\"Reason\": \"By national air system\", \"count\": 93047}, {\"Reason\": \"By carrier\", \"count\": 134451}]}}, {\"mode\": \"vega-lite\"});\n",
       "</script>"
      ],
      "text/plain": [
       "alt.LayerChart(...)"
      ]
     },
     "execution_count": 58,
     "metadata": {},
     "output_type": "execute_result"
    }
   ],
   "source": [
    "chart = alt.Chart(cancellation_reasons).mark_arc(outerRadius=180, innerRadius=50).encode(\n",
    "    theta = alt.Theta(field=\"count\", type=\"quantitative\", stack=True),\n",
    "    color = alt.Color('Reason:N', scale=alt.Scale(scheme='category20'), legend=None),\n",
    ").properties(\n",
    "    title='Reasons for flight cancellations',\n",
    "    width=600,\n",
    "    height=300\n",
    ")\n",
    "\n",
    "pie = chart.mark_arc(outerRadius=250)\n",
    "value_text = pie.mark_text(radius=220, size=15).encode(text=alt.Text('count:Q'))\n",
    "\n",
    "pie2 = chart.mark_arc(outerRadius=150)\n",
    "text = pie2.mark_text(radius=120, size=12).encode(\n",
    "    text=alt.Text('Reason:N'), \n",
    "    color=alt.value(\"#000000\")\n",
    ")\n",
    "\n",
    "(chart + text + value_text).configure_view(\n",
    "    strokeWidth=0\n",
    ").configure_title(\n",
    "    fontSize=18\n",
    ")"
   ]
  },
  {
   "cell_type": "code",
   "execution_count": 59,
   "id": "da5dd890-415d-4a01-9a43-0a61134d9897",
   "metadata": {},
   "outputs": [
    {
     "name": "stdout",
     "output_type": "stream",
     "text": [
      "Row(FL_DATE=1356973200, OP_CARRIER='VX', OP_CARRIER_FL_NUM=108, ORIGIN='LAX', DEST='IAD', CRS_DEP_TIME=700.0, CRS_ARR_TIME=1445.0, CANCELLED=0.0, DIVERTED=0.0, CRS_ELAPSED_TIME=285.0, DISTANCE=2288.0)\n"
     ]
    }
   ],
   "source": [
    "print(classify_df.head())"
   ]
  },
  {
   "cell_type": "code",
   "execution_count": 64,
   "id": "d0d91c64-4c0f-42d4-8587-56fd6522f59f",
   "metadata": {},
   "outputs": [
    {
     "data": {
      "image/png": "[encoded data removed]",
      "text/plain": [
       "<Figure size 1000x600 with 1 Axes>"
      ]
     },
     "metadata": {},
     "output_type": "display_data"
    }
   ],
   "source": [
    "# Ambil FL_DATE dan CANCELLED\n",
    "pdf = classify_df.select('FL_DATE', 'CANCELLED').toPandas()\n",
    "\n",
    "# Ubah FL_DATE menjadi datetime dari timestamp (dalam detik)\n",
    "pdf['FL_DATE'] = pd.to_datetime(pdf['FL_DATE'], unit='s')\n",
    "\n",
    "# Ekstrak tahun\n",
    "pdf['YEAR'] = pdf['FL_DATE'].dt.year\n",
    "\n",
    "# Hitung jumlah pembatalan per tahun\n",
    "cancelled_per_year = pdf[pdf['CANCELLED'] == 1].groupby('YEAR').size()\n",
    "\n",
    "# Plot\n",
    "plt.figure(figsize=(10, 6))\n",
    "plt.plot(cancelled_per_year.index, cancelled_per_year.values, marker='o', color='tomato')\n",
    "plt.xlabel('Year')\n",
    "plt.ylabel('Cancelled Flights')\n",
    "plt.title('Number of Cancelled Flights per Year')\n",
    "plt.grid(True)\n",
    "plt.tight_layout()\n",
    "plt.show()"
   ]
  },
  {
   "cell_type": "code",
   "execution_count": 65,
   "id": "e924135c-49f7-4afc-8be1-b519a5579e52",
   "metadata": {},
   "outputs": [
    {
     "name": "stdout",
     "output_type": "stream",
     "text": [
      "2012-12-31 17:00:00\n",
      "2017-12-30 17:00:00\n"
     ]
    }
   ],
   "source": [
    "print(pdf['FL_DATE'].min())\n",
    "print(pdf['FL_DATE'].max())"
   ]
  },
  {
   "cell_type": "code",
   "execution_count": 66,
   "id": "9238d20e-e826-44b2-a5be-5e3c1a68da3b",
   "metadata": {},
   "outputs": [
    {
     "name": "stdout",
     "output_type": "stream",
     "text": [
      "              FL_DATE  CANCELLED  YEAR\n",
      "0 2012-12-31 17:00:00        0.0  2012\n",
      "1 2012-12-31 17:00:00        0.0  2012\n",
      "2 2012-12-31 17:00:00        0.0  2012\n",
      "3 2012-12-31 17:00:00        0.0  2012\n",
      "4 2012-12-31 17:00:00        0.0  2012\n"
     ]
    }
   ],
   "source": [
    "print(pdf.head())"
   ]
  },
  {
   "cell_type": "code",
   "execution_count": 73,
   "id": "783171fb-8633-42de-8f1d-0d0443461b93",
   "metadata": {},
   "outputs": [
    {
     "name": "stdout",
     "output_type": "stream",
     "text": [
      "Jumlah data total: 29300651\n",
      "\n",
      "Jumlah data per label:\n",
      "CANCELLED\n",
      "0.0    28839217\n",
      "1.0      461434\n",
      "Name: count, dtype: int64\n",
      "\n",
      "Persentase per label:\n",
      "CANCELLED\n",
      "0.0    98.425175\n",
      "1.0     1.574825\n",
      "Name: count, dtype: float64\n"
     ]
    },
    {
     "data": {
      "image/png": "[encoded data removed]",
      "text/plain": [
       "<Figure size 1000x600 with 1 Axes>"
      ]
     },
     "metadata": {},
     "output_type": "display_data"
    }
   ],
   "source": [
    "pdf = classify_df.select('CANCELLED').toPandas()\n",
    "\n",
    "# Tampilkan jumlah data total\n",
    "print(\"Jumlah data total:\", len(pdf))\n",
    "\n",
    "# Tampilkan jumlah data untuk tiap label\n",
    "label_counts = pdf['CANCELLED'].value_counts()\n",
    "print(\"\\nJumlah data per label:\")\n",
    "print(label_counts)\n",
    "\n",
    "# Kalau mau lihat persentasenya juga:\n",
    "print(\"\\nPersentase per label:\")\n",
    "print(label_counts / len(pdf) * 100)\n",
    "\n",
    "# Plot histogram\n",
    "pdf['CANCELLED'].hist(bins=2, figsize=(10, 6))  # bins=2 karena cuma dua label\n",
    "plt.xlabel('CANCELLED (0 = Tidak dibatalkan, 1 = Dibatalkan)')\n",
    "plt.ylabel('Jumlah')\n",
    "plt.title('Distribusi Data CANCELLED')\n",
    "plt.grid(True)\n",
    "plt.show()\n"
   ]
  },
  {
   "cell_type": "code",
   "execution_count": 70,
   "id": "5b937ffe-c8a2-4656-90ec-9e6de934bf0c",
   "metadata": {},
   "outputs": [
    {
     "data": {
      "image/png": "[encoded data removed]",
      "text/plain": [
       "<Figure size 1200x800 with 2 Axes>"
      ]
     },
     "metadata": {},
     "output_type": "display_data"
    }
   ],
   "source": [
    "sample_df = classify_df.sample(fraction=0.01, seed=42)  # Hanya 1% data\n",
    "dataset = sample_df.toPandas()\n",
    "\n",
    "plt.figure(figsize=(12, 8))\n",
    "korelasi = dataset.corr(numeric_only=True)\n",
    "sns.heatmap(korelasi, annot=True, cmap='coolwarm', fmt='.2f', linewidths=0.5)\n",
    "plt.title(\"Correlation Heatmap (Sampled Data)\")\n",
    "plt.show()"
   ]
  },
  {
   "cell_type": "code",
   "execution_count": 74,
   "id": "8c23c98e-304d-4756-985a-8681493696ab",
   "metadata": {},
   "outputs": [],
   "source": [
    "#Ubah kolom string menjadi numerik\n",
    "# StringIndexer untuk kolom kategorikal\n",
    "\n",
    "carrier_indexer = StringIndexer(inputCol=\"OP_CARRIER\", outputCol=\"OP_CARRIER_Index\")\n",
    "origin_indexer = StringIndexer(inputCol=\"ORIGIN\", outputCol=\"ORIGIN_Index\")\n",
    "dest_indexer = StringIndexer(inputCol=\"DEST\", outputCol=\"DEST_Index\")"
   ]
  },
  {
   "cell_type": "code",
   "execution_count": 75,
   "id": "5048f493",
   "metadata": {},
   "outputs": [
    {
     "name": "stdout",
     "output_type": "stream",
     "text": [
      "+-------------------+----------+-----------------+------+----+------------+--------+---------+--------+----------+---------+-------+------------+--------+---------+---------+-----------------+--------+----------------+-------------------+--------+--------+-------------+-------------+---------+--------------+-------------------+-----------+----------------+------------+----------+\n",
      "|FL_DATE            |OP_CARRIER|OP_CARRIER_FL_NUM|ORIGIN|DEST|CRS_DEP_TIME|DEP_TIME|DEP_DELAY|TAXI_OUT|WHEELS_OFF|WHEELS_ON|TAXI_IN|CRS_ARR_TIME|ARR_TIME|ARR_DELAY|CANCELLED|CANCELLATION_CODE|DIVERTED|CRS_ELAPSED_TIME|ACTUAL_ELAPSED_TIME|AIR_TIME|DISTANCE|CARRIER_DELAY|WEATHER_DELAY|NAS_DELAY|SECURITY_DELAY|LATE_AIRCRAFT_DELAY|Unnamed: 27|OP_CARRIER_Index|ORIGIN_Index|DEST_Index|\n",
      "+-------------------+----------+-----------------+------+----+------------+--------+---------+--------+----------+---------+-------+------------+--------+---------+---------+-----------------+--------+----------------+-------------------+--------+--------+-------------+-------------+---------+--------------+-------------------+-----------+----------------+------------+----------+\n",
      "|2013-01-01 00:00:00|VX        |108              |LAX   |IAD |700.0       |700.0   |0.0      |8.0     |708.0     |1411.0   |7.0    |1445.0      |1418.0  |-27.0    |0.0      |NULL             |0.0     |285.0           |258.0              |243.0   |2288.0  |NULL         |NULL         |NULL     |NULL          |NULL               |NULL       |13.0            |4.0         |33.0      |\n",
      "|2013-01-01 00:00:00|VX        |114              |LAX   |IAD |2205.0      |2204.0  |-1.0     |12.0    |2216.0    |523.0    |13.0   |545.0       |536.0   |-9.0     |0.0      |NULL             |0.0     |280.0           |272.0              |247.0   |2288.0  |NULL         |NULL         |NULL     |NULL          |NULL               |NULL       |13.0            |4.0         |33.0      |\n",
      "|2013-01-01 00:00:00|VX        |11               |JFK   |SFO |730.0       |729.0   |-1.0     |18.0    |747.0     |1043.0   |6.0    |1115.0      |1049.0  |-26.0    |0.0      |NULL             |0.0     |405.0           |380.0              |356.0   |2586.0  |NULL         |NULL         |NULL     |NULL          |NULL               |NULL       |13.0            |18.0        |5.0       |\n",
      "|2013-01-01 00:00:00|VX        |121              |PHL   |LAX |700.0       |700.0   |0.0      |14.0    |714.0     |1006.0   |8.0    |1000.0      |1014.0  |14.0     |0.0      |NULL             |0.0     |360.0           |374.0              |352.0   |2402.0  |NULL         |NULL         |NULL     |NULL          |NULL               |NULL       |13.0            |25.0        |4.0       |\n",
      "|2013-01-01 00:00:00|VX        |124              |LAX   |PHL |1100.0      |1104.0  |4.0      |12.0    |1116.0    |1828.0   |9.0    |1915.0      |1837.0  |-38.0    |0.0      |NULL             |0.0     |315.0           |273.0              |252.0   |2402.0  |NULL         |NULL         |NULL     |NULL          |NULL               |NULL       |13.0            |4.0         |25.0      |\n",
      "|2013-01-01 00:00:00|VX        |125              |PHL   |LAX |1145.0      |1142.0  |-3.0     |11.0    |1153.0    |1441.0   |8.0    |1450.0      |1449.0  |-1.0     |0.0      |NULL             |0.0     |365.0           |367.0              |348.0   |2402.0  |NULL         |NULL         |NULL     |NULL          |NULL               |NULL       |13.0            |25.0        |4.0       |\n",
      "|2013-01-01 00:00:00|VX        |126              |LAX   |PHL |1545.0      |1544.0  |-1.0     |8.0     |1552.0    |2303.0   |6.0    |2355.0      |2309.0  |-46.0    |0.0      |NULL             |0.0     |310.0           |265.0              |251.0   |2402.0  |NULL         |NULL         |NULL     |NULL          |NULL               |NULL       |13.0            |4.0         |25.0      |\n",
      "|2013-01-01 00:00:00|VX        |127              |PHL   |LAX |2010.0      |2000.0  |-10.0    |14.0    |2014.0    |2257.0   |12.0   |2305.0      |2309.0  |4.0      |0.0      |NULL             |0.0     |355.0           |369.0              |343.0   |2402.0  |NULL         |NULL         |NULL     |NULL          |NULL               |NULL       |13.0            |25.0        |4.0       |\n",
      "|2013-01-01 00:00:00|VX        |12               |SFO   |JFK |700.0       |658.0   |-2.0     |16.0    |714.0     |1509.0   |8.0    |1535.0      |1517.0  |-18.0    |0.0      |NULL             |0.0     |335.0           |319.0              |295.0   |2586.0  |NULL         |NULL         |NULL     |NULL          |NULL               |NULL       |13.0            |5.0         |18.0      |\n",
      "|2013-01-01 00:00:00|VX        |130              |LAX   |PHL |2140.0      |2139.0  |-1.0     |7.0     |2146.0    |457.0    |10.0   |545.0       |507.0   |-38.0    |0.0      |NULL             |0.0     |305.0           |268.0              |251.0   |2402.0  |NULL         |NULL         |NULL     |NULL          |NULL               |NULL       |13.0            |4.0         |25.0      |\n",
      "|2013-01-01 00:00:00|VX        |1364             |LAX   |BOS |710.0       |707.0   |-3.0     |7.0     |714.0     |1440.0   |7.0    |1530.0      |1447.0  |-43.0    |0.0      |NULL             |0.0     |320.0           |280.0              |266.0   |2611.0  |NULL         |NULL         |NULL     |NULL          |NULL               |NULL       |13.0            |4.0         |14.0      |\n",
      "|2013-01-01 00:00:00|VX        |1365             |BOS   |LAX |1625.0      |1630.0  |5.0      |14.0    |1644.0    |1932.0   |9.0    |2000.0      |1941.0  |-19.0    |0.0      |NULL             |0.0     |395.0           |371.0              |348.0   |2611.0  |NULL         |NULL         |NULL     |NULL          |NULL               |NULL       |13.0            |14.0        |4.0       |\n",
      "|2013-01-01 00:00:00|VX        |136              |SFO   |PHL |830.0       |832.0   |2.0      |17.0    |849.0     |1641.0   |7.0    |1650.0      |1648.0  |-2.0     |0.0      |NULL             |0.0     |320.0           |316.0              |292.0   |2521.0  |NULL         |NULL         |NULL     |NULL          |NULL               |NULL       |13.0            |5.0         |25.0      |\n",
      "|2013-01-01 00:00:00|VX        |137              |PHL   |SFO |835.0       |832.0   |-3.0     |11.0    |843.0     |1140.0   |5.0    |1200.0      |1145.0  |-15.0    |0.0      |NULL             |0.0     |385.0           |373.0              |357.0   |2521.0  |NULL         |NULL         |NULL     |NULL          |NULL               |NULL       |13.0            |25.0        |5.0       |\n",
      "|2013-01-01 00:00:00|VX        |141              |PHL   |SFO |1750.0      |1746.0  |-4.0     |16.0    |1802.0    |2103.0   |4.0    |2115.0      |2107.0  |-8.0     |0.0      |NULL             |0.0     |385.0           |381.0              |361.0   |2521.0  |NULL         |NULL         |NULL     |NULL          |NULL               |NULL       |13.0            |25.0        |5.0       |\n",
      "|2013-01-01 00:00:00|VX        |144              |SFO   |PHL |2305.0      |2304.0  |-1.0     |12.0    |2316.0    |708.0    |19.0   |720.0       |727.0   |7.0      |0.0      |NULL             |0.0     |315.0           |323.0              |292.0   |2521.0  |NULL         |NULL         |NULL     |NULL          |NULL               |NULL       |13.0            |5.0         |25.0      |\n",
      "|2013-01-01 00:00:00|VX        |1892             |SFO   |LAS |1910.0      |1859.0  |-11.0    |8.0     |1907.0    |2017.0   |18.0   |2040.0      |2035.0  |-5.0     |0.0      |NULL             |0.0     |90.0            |96.0               |70.0    |414.0   |NULL         |NULL         |NULL     |NULL          |NULL               |NULL       |13.0            |5.0         |8.0       |\n",
      "|2013-01-01 00:00:00|VX        |1893             |LAS   |SFO |2125.0      |2123.0  |-2.0     |15.0    |2138.0    |2244.0   |27.0   |2305.0      |2311.0  |6.0      |0.0      |NULL             |0.0     |100.0           |108.0              |66.0    |414.0   |NULL         |NULL         |NULL     |NULL          |NULL               |NULL       |13.0            |8.0         |5.0       |\n",
      "|2013-01-01 00:00:00|VX        |1916             |SFO   |LAS |2015.0      |2011.0  |-4.0     |15.0    |2026.0    |2133.0   |12.0   |2145.0      |2145.0  |0.0      |0.0      |NULL             |0.0     |90.0            |94.0               |67.0    |414.0   |NULL         |NULL         |NULL     |NULL          |NULL               |NULL       |13.0            |5.0         |8.0       |\n",
      "|2013-01-01 00:00:00|VX        |1926             |SFO   |LAX |915.0       |910.0   |-5.0     |11.0    |921.0     |1013.0   |7.0    |1035.0      |1020.0  |-15.0    |0.0      |NULL             |0.0     |80.0            |70.0               |52.0    |337.0   |NULL         |NULL         |NULL     |NULL          |NULL               |NULL       |13.0            |5.0         |4.0       |\n",
      "+-------------------+----------+-----------------+------+----+------------+--------+---------+--------+----------+---------+-------+------------+--------+---------+---------+-----------------+--------+----------------+-------------------+--------+--------+-------------+-------------+---------+--------------+-------------------+-----------+----------------+------------+----------+\n",
      "only showing top 20 rows\n",
      "\n"
     ]
    }
   ],
   "source": [
    "df_indexed = carrier_indexer.fit(df).transform(df)\n",
    "df_indexed = origin_indexer.fit(df_indexed).transform(df_indexed)\n",
    "df_indexed = dest_indexer.fit(df_indexed).transform(df_indexed)\n",
    "df_indexed.show(truncate=False)"
   ]
  },
  {
   "cell_type": "code",
   "execution_count": 76,
   "id": "890606cd",
   "metadata": {},
   "outputs": [],
   "source": [
    "onehotencoder_carrier_vector = OneHotEncoder(inputCol=\"OP_CARRIER_Index\", outputCol=\"OP_CARRIER_vec\")\n",
    "onehotencoder_origin_vector = OneHotEncoder(inputCol=\"ORIGIN_Index\", outputCol=\"ORIGIN_vec\")\n",
    "onehotencoder_dest_vector = OneHotEncoder(inputCol=\"DEST_Index\", outputCol=\"DEST_vec\")"
   ]
  },
  {
   "cell_type": "code",
   "execution_count": 77,
   "id": "b91eb8ea",
   "metadata": {},
   "outputs": [],
   "source": [
    "pipeline = Pipeline(stages=[carrier_indexer, origin_indexer, dest_indexer,\n",
    "                            onehotencoder_carrier_vector, onehotencoder_origin_vector,\n",
    "                            onehotencoder_dest_vector])\n",
    "\n",
    "transformed_df = pipeline.fit(classify_df).transform(classify_df)"
   ]
  },
  {
   "cell_type": "code",
   "execution_count": 78,
   "id": "906a5cfd",
   "metadata": {},
   "outputs": [
    {
     "name": "stdout",
     "output_type": "stream",
     "text": [
      "+----------+----------+-----------------+------+----+------------+------------+---------+--------+----------------+--------+----------------+------------+----------+---------------+----------------+----------------+\n",
      "|FL_DATE   |OP_CARRIER|OP_CARRIER_FL_NUM|ORIGIN|DEST|CRS_DEP_TIME|CRS_ARR_TIME|CANCELLED|DIVERTED|CRS_ELAPSED_TIME|DISTANCE|OP_CARRIER_Index|ORIGIN_Index|DEST_Index|OP_CARRIER_vec |ORIGIN_vec      |DEST_vec        |\n",
      "+----------+----------+-----------------+------+----+------------+------------+---------+--------+----------------+--------+----------------+------------+----------+---------------+----------------+----------------+\n",
      "|1356973200|VX        |108              |LAX   |IAD |700.0       |1445.0      |0.0      |0.0     |285.0           |2288.0  |13.0            |4.0         |33.0      |(16,[13],[1.0])|(347,[4],[1.0]) |(342,[33],[1.0])|\n",
      "|1356973200|VX        |114              |LAX   |IAD |2205.0      |545.0       |0.0      |0.0     |280.0           |2288.0  |13.0            |4.0         |33.0      |(16,[13],[1.0])|(347,[4],[1.0]) |(342,[33],[1.0])|\n",
      "|1356973200|VX        |11               |JFK   |SFO |730.0       |1115.0      |0.0      |0.0     |405.0           |2586.0  |13.0            |18.0        |5.0       |(16,[13],[1.0])|(347,[18],[1.0])|(342,[5],[1.0]) |\n",
      "|1356973200|VX        |121              |PHL   |LAX |700.0       |1000.0      |0.0      |0.0     |360.0           |2402.0  |13.0            |25.0        |4.0       |(16,[13],[1.0])|(347,[25],[1.0])|(342,[4],[1.0]) |\n",
      "|1356973200|VX        |124              |LAX   |PHL |1100.0      |1915.0      |0.0      |0.0     |315.0           |2402.0  |13.0            |4.0         |25.0      |(16,[13],[1.0])|(347,[4],[1.0]) |(342,[25],[1.0])|\n",
      "+----------+----------+-----------------+------+----+------------+------------+---------+--------+----------------+--------+----------------+------------+----------+---------------+----------------+----------------+\n",
      "only showing top 5 rows\n",
      "\n"
     ]
    }
   ],
   "source": [
    "#transformed_df = transformed_df.withColumn(\"FL_DATE\", F.unix_timestamp(\"FL_DATE\"))\n",
    "transformed_df.show(5, truncate=False)\n"
   ]
  },
  {
   "cell_type": "code",
   "execution_count": 79,
   "id": "46301e46",
   "metadata": {},
   "outputs": [],
   "source": [
    "feature_columns = transformed_df.columns\n",
    "\n",
    "# remove cols that whould not be in our feature cols (label col, intermediate preprocessing cols)\n",
    "for item in [\"CANCELLED\", \"ORIGIN\", \"DEST\", \"OP_CARRIER\", \"OP_CARRIER_Index\", \"ORIGIN_Index\", \"DEST_Index\"]:\n",
    "    feature_columns.remove(item)\n",
    "\n",
    "\n",
    "assembler = VectorAssembler(inputCols=feature_columns, outputCol=\"features\",handleInvalid=\"skip\")\n",
    "\n",
    "# build feature col\n",
    "assembled_df = assembler.transform(transformed_df)"
   ]
  },
  {
   "cell_type": "code",
   "execution_count": 80,
   "id": "a2dcc7e3",
   "metadata": {},
   "outputs": [
    {
     "name": "stdout",
     "output_type": "stream",
     "text": [
      "+----------+----------+-----------------+------+----+------------+------------+---------+--------+----------------+--------+----------------+------------+----------+---------------+----------------+----------------+----------------------------------------------------------------------------------------+\n",
      "|FL_DATE   |OP_CARRIER|OP_CARRIER_FL_NUM|ORIGIN|DEST|CRS_DEP_TIME|CRS_ARR_TIME|CANCELLED|DIVERTED|CRS_ELAPSED_TIME|DISTANCE|OP_CARRIER_Index|ORIGIN_Index|DEST_Index|OP_CARRIER_vec |ORIGIN_vec      |DEST_vec        |features                                                                                |\n",
      "+----------+----------+-----------------+------+----+------------+------------+---------+--------+----------------+--------+----------------+------------+----------+---------------+----------------+----------------+----------------------------------------------------------------------------------------+\n",
      "|1356973200|VX        |108              |LAX   |IAD |700.0       |1445.0      |0.0      |0.0     |285.0           |2288.0  |13.0            |4.0         |33.0      |(16,[13],[1.0])|(347,[4],[1.0]) |(342,[33],[1.0])|(712,[0,1,2,3,5,6,20,27,403],[1.3569732E9,108.0,700.0,1445.0,285.0,2288.0,1.0,1.0,1.0]) |\n",
      "|1356973200|VX        |114              |LAX   |IAD |2205.0      |545.0       |0.0      |0.0     |280.0           |2288.0  |13.0            |4.0         |33.0      |(16,[13],[1.0])|(347,[4],[1.0]) |(342,[33],[1.0])|(712,[0,1,2,3,5,6,20,27,403],[1.3569732E9,114.0,2205.0,545.0,280.0,2288.0,1.0,1.0,1.0]) |\n",
      "|1356973200|VX        |11               |JFK   |SFO |730.0       |1115.0      |0.0      |0.0     |405.0           |2586.0  |13.0            |18.0        |5.0       |(16,[13],[1.0])|(347,[18],[1.0])|(342,[5],[1.0]) |(712,[0,1,2,3,5,6,20,41,375],[1.3569732E9,11.0,730.0,1115.0,405.0,2586.0,1.0,1.0,1.0])  |\n",
      "|1356973200|VX        |121              |PHL   |LAX |700.0       |1000.0      |0.0      |0.0     |360.0           |2402.0  |13.0            |25.0        |4.0       |(16,[13],[1.0])|(347,[25],[1.0])|(342,[4],[1.0]) |(712,[0,1,2,3,5,6,20,48,374],[1.3569732E9,121.0,700.0,1000.0,360.0,2402.0,1.0,1.0,1.0]) |\n",
      "|1356973200|VX        |124              |LAX   |PHL |1100.0      |1915.0      |0.0      |0.0     |315.0           |2402.0  |13.0            |4.0         |25.0      |(16,[13],[1.0])|(347,[4],[1.0]) |(342,[25],[1.0])|(712,[0,1,2,3,5,6,20,27,395],[1.3569732E9,124.0,1100.0,1915.0,315.0,2402.0,1.0,1.0,1.0])|\n",
      "+----------+----------+-----------------+------+----+------------+------------+---------+--------+----------------+--------+----------------+------------+----------+---------------+----------------+----------------+----------------------------------------------------------------------------------------+\n",
      "only showing top 5 rows\n",
      "\n"
     ]
    }
   ],
   "source": [
    "\n",
    "assembled_df.show(5, truncate=False)"
   ]
  },
  {
   "cell_type": "code",
   "execution_count": 81,
   "id": "6f7a5575",
   "metadata": {},
   "outputs": [],
   "source": [
    "final_classify_df = assembled_df.select(\"features\", F.col(\"CANCELLED\").alias(\"label\"))"
   ]
  },
  {
   "cell_type": "code",
   "execution_count": 82,
   "id": "0a848aee",
   "metadata": {},
   "outputs": [
    {
     "data": {
      "text/plain": [
       "DataFrame[features: vector, label: double]"
      ]
     },
     "execution_count": 82,
     "metadata": {},
     "output_type": "execute_result"
    }
   ],
   "source": [
    "final_classify_df.dropna()\n",
    "\n"
   ]
  },
  {
   "cell_type": "code",
   "execution_count": 83,
   "id": "1a503c92",
   "metadata": {},
   "outputs": [
    {
     "name": "stdout",
     "output_type": "stream",
     "text": [
      "+--------+-----+\n",
      "|features|label|\n",
      "+--------+-----+\n",
      "|       0|    0|\n",
      "+--------+-----+\n",
      "\n"
     ]
    }
   ],
   "source": [
    "#Count null values in each column\n",
    "null_counts = final_classify_df.select([F.count(F.when(F.col(c).isNull(), 1)).alias(c) for c in final_classify_df.columns])\n",
    "null_counts.show()"
   ]
  },
  {
   "cell_type": "code",
   "execution_count": 84,
   "id": "7e6c63f7",
   "metadata": {},
   "outputs": [
    {
     "name": "stdout",
     "output_type": "stream",
     "text": [
      "root\n",
      " |-- features: vector (nullable = true)\n",
      " |-- label: double (nullable = true)\n",
      "\n",
      "+--------------------+-----+\n",
      "|            features|label|\n",
      "+--------------------+-----+\n",
      "|(712,[0,1,2,3,5,6...|  1.0|\n",
      "|(712,[0,1,2,3,5,6...|  1.0|\n",
      "|(712,[0,1,2,3,5,6...|  1.0|\n",
      "|(712,[0,1,2,3,5,6...|  1.0|\n",
      "|(712,[0,1,2,3,5,6...|  1.0|\n",
      "|(712,[0,1,2,3,5,6...|  1.0|\n",
      "|(712,[0,1,2,3,5,6...|  1.0|\n",
      "|(712,[0,1,2,3,5,6...|  1.0|\n",
      "|(712,[0,1,2,3,5,6...|  1.0|\n",
      "|(712,[0,1,2,3,5,6...|  1.0|\n",
      "|(712,[0,1,2,3,5,6...|  1.0|\n",
      "|(712,[0,1,2,3,5,6...|  1.0|\n",
      "|(712,[0,1,2,3,5,6...|  1.0|\n",
      "|(712,[0,1,2,3,5,6...|  1.0|\n",
      "|(712,[0,1,2,3,5,6...|  1.0|\n",
      "|(712,[0,1,2,3,5,6...|  1.0|\n",
      "|(712,[0,1,2,3,5,6...|  1.0|\n",
      "|(712,[0,1,2,3,5,6...|  1.0|\n",
      "|(712,[0,1,2,3,5,6...|  1.0|\n",
      "|(712,[0,1,2,3,5,6...|  1.0|\n",
      "+--------------------+-----+\n",
      "only showing top 20 rows\n",
      "\n"
     ]
    }
   ],
   "source": [
    "final_classify_df.printSchema()\n",
    "final_classify_df.filter(F.col(\"label\") == 1.0).show()"
   ]
  },
  {
   "cell_type": "code",
   "execution_count": 85,
   "id": "40dffa7c",
   "metadata": {},
   "outputs": [],
   "source": [
    "train, test = final_classify_df.randomSplit([.8, .2], seed=9)"
   ]
  },
  {
   "cell_type": "code",
   "execution_count": 86,
   "id": "07312053",
   "metadata": {},
   "outputs": [],
   "source": [
    "train = train.repartition(8).cache()\n",
    "test = test.repartition(8).cache()"
   ]
  },
  {
   "cell_type": "code",
   "execution_count": 87,
   "id": "ac1377b5",
   "metadata": {},
   "outputs": [
    {
     "name": "stdout",
     "output_type": "stream",
     "text": [
      "+--------------------+-----+\n",
      "|            features|label|\n",
      "+--------------------+-----+\n",
      "|(712,[0,1,2,3,5,6...|  0.0|\n",
      "|(712,[0,1,2,3,5,6...|  0.0|\n",
      "|(712,[0,1,2,3,5,6...|  0.0|\n",
      "|(712,[0,1,2,3,5,6...|  0.0|\n",
      "|(712,[0,1,2,3,5,6...|  0.0|\n",
      "+--------------------+-----+\n",
      "only showing top 5 rows\n",
      "\n"
     ]
    }
   ],
   "source": [
    "test.show(5)\n"
   ]
  },
  {
   "cell_type": "code",
   "execution_count": 88,
   "id": "6428dcc4",
   "metadata": {},
   "outputs": [
    {
     "name": "stdout",
     "output_type": "stream",
     "text": [
      "+----------------------------------------------------------------------------------------+-----+\n",
      "|features                                                                                |label|\n",
      "+----------------------------------------------------------------------------------------+-----+\n",
      "|(712,[0,1,2,3,5,6,9,26,372],[1.3573188E9,1238.0,1610.0,1905.0,115.0,641.0,1.0,1.0,1.0]) |0.0  |\n",
      "|(712,[0,1,2,3,5,6,7,51,397],[1.3608612E9,24.0,1200.0,1300.0,60.0,239.0,1.0,1.0,1.0])    |0.0  |\n",
      "|(712,[0,1,2,3,5,6,9,47,375],[1.3615524E9,1783.0,2025.0,2350.0,385.0,2585.0,1.0,1.0,1.0])|0.0  |\n",
      "|(712,[0,1,2,3,5,6,7,94,378],[1.358874E9,1097.0,1205.0,1245.0,100.0,519.0,1.0,1.0,1.0])  |0.0  |\n",
      "|(712,[0,1,2,3,5,6,16,52,393],[1.3591332E9,764.0,930.0,1735.0,305.0,2350.0,1.0,1.0,1.0]) |0.0  |\n",
      "+----------------------------------------------------------------------------------------+-----+\n",
      "only showing top 5 rows\n",
      "\n"
     ]
    }
   ],
   "source": [
    "train.show(5,truncate=False)"
   ]
  },
  {
   "cell_type": "code",
   "execution_count": 89,
   "id": "e0b1ddeb",
   "metadata": {},
   "outputs": [],
   "source": [
    "log_regress = LogisticRegression(labelCol = 'label', featuresCol = 'features')\n",
    "decision_tree = DecisionTreeClassifier(labelCol = 'label', featuresCol = 'features')"
   ]
  },
  {
   "cell_type": "code",
   "execution_count": 90,
   "id": "93dfbc44",
   "metadata": {},
   "outputs": [],
   "source": [
    "log_regress_model = log_regress.fit(train)"
   ]
  },
  {
   "cell_type": "code",
   "execution_count": 91,
   "id": "53967b96",
   "metadata": {},
   "outputs": [],
   "source": [
    "decision_tree_model = decision_tree.fit(train)"
   ]
  },
  {
   "cell_type": "code",
   "execution_count": 92,
   "id": "50475551",
   "metadata": {},
   "outputs": [],
   "source": [
    "log_regress_predictions = log_regress_model.transform(test)\n",
    "decision_tree_predictions = decision_tree_model.transform(test)"
   ]
  },
  {
   "cell_type": "code",
   "execution_count": 93,
   "id": "cb22d0f6",
   "metadata": {},
   "outputs": [],
   "source": [
    "evaluator_Acc = MulticlassClassificationEvaluator(labelCol='label', metricName='accuracy')\n",
    "evaluator_F1 = MulticlassClassificationEvaluator(labelCol='label', metricName='f1')"
   ]
  },
  {
   "cell_type": "code",
   "execution_count": 94,
   "id": "0717d81c",
   "metadata": {},
   "outputs": [
    {
     "name": "stdout",
     "output_type": "stream",
     "text": [
      "Train Accuracy:  0.9842618310599834\n",
      "Train F1:  0.9764552028854466\n"
     ]
    }
   ],
   "source": [
    "# find train accuracy\n",
    "train_accuracy = evaluator_Acc.evaluate(log_regress_model.transform(train))\n",
    "print(\"Train Accuracy: \", train_accuracy)\n",
    "# find train accuracy\n",
    "train_f1 = evaluator_F1.evaluate(log_regress_model.transform(train))\n",
    "print(\"Train F1: \", train_f1)\n"
   ]
  },
  {
   "cell_type": "code",
   "execution_count": 95,
   "id": "8ec54a58",
   "metadata": {},
   "outputs": [
    {
     "name": "stdout",
     "output_type": "stream",
     "text": [
      "Train Accuracy:  0.9842617883954757\n",
      "Train F1:  0.9764550965614605\n"
     ]
    }
   ],
   "source": [
    "# find train accuracy\n",
    "train_accuracy = evaluator_Acc.evaluate(decision_tree_model.transform(train))\n",
    "print(\"Train Accuracy: \", train_accuracy)\n",
    "train_f1 = evaluator_F1.evaluate(decision_tree_model.transform(train))\n",
    "print(\"Train F1: \", train_f1)"
   ]
  },
  {
   "cell_type": "code",
   "execution_count": 96,
   "id": "307fa4db",
   "metadata": {},
   "outputs": [],
   "source": [
    "log_regress_Acc = evaluator_Acc.evaluate(log_regress_predictions)\n",
    "decision_tree_Acc = evaluator_Acc.evaluate(decision_tree_predictions)\n",
    "log_regress_F1 = evaluator_F1.evaluate(log_regress_predictions)\n",
    "decision_tree_F1 = evaluator_F1.evaluate(decision_tree_predictions)"
   ]
  },
  {
   "cell_type": "code",
   "execution_count": 97,
   "id": "095868cc",
   "metadata": {},
   "outputs": [
    {
     "name": "stdout",
     "output_type": "stream",
     "text": [
      "+----------+-------+\n",
      "|prediction|count  |\n",
      "+----------+-------+\n",
      "|0.0       |5861935|\n",
      "+----------+-------+\n",
      "\n",
      "+-----+-------+\n",
      "|label|count  |\n",
      "+-----+-------+\n",
      "|0.0  |5769409|\n",
      "|1.0  |92526  |\n",
      "+-----+-------+\n",
      "\n"
     ]
    }
   ],
   "source": [
    "# Menghitung jumlah nilai 0 dan 1 pada kolom prediction\n",
    "prediction_counts = decision_tree_predictions.groupBy(\"prediction\").count()\n",
    "label_counts = decision_tree_predictions.groupBy(\"label\").count()\n",
    "\n",
    "# Menampilkan hasil\n",
    "prediction_counts.show(10, truncate=False)\n",
    "label_counts.show(10, truncate=False)\n"
   ]
  },
  {
   "cell_type": "code",
   "execution_count": 98,
   "id": "0c9cf7c8",
   "metadata": {},
   "outputs": [
    {
     "name": "stdout",
     "output_type": "stream",
     "text": [
      "+----------+-----+---------------------------------------------------------------------------------------+\n",
      "|prediction|label|features                                                                               |\n",
      "+----------+-----+---------------------------------------------------------------------------------------+\n",
      "|1.0       |1.0  |(712,[0,1,2,3,5,6,10,73,377],[1.4486436E9,2360.0,700.0,1545.0,585.0,956.0,1.0,1.0,1.0])|\n",
      "+----------+-----+---------------------------------------------------------------------------------------+\n",
      "\n"
     ]
    }
   ],
   "source": [
    "# Menampilkan hanya prediksi dengan nilai 0.0 (false)\n",
    "false_predictions = log_regress_predictions.filter(log_regress_predictions.prediction == 1.0)\n",
    "\n",
    "# Menampilkan hasil filter\n",
    "false_predictions.select(\"prediction\", \"label\", \"features\").show(20, truncate=False)\n"
   ]
  },
  {
   "cell_type": "code",
   "execution_count": 99,
   "id": "92b9270a",
   "metadata": {},
   "outputs": [
    {
     "name": "stdout",
     "output_type": "stream",
     "text": [
      "Logistic Regression PR: 0.9842159628177385\n",
      "Logistic Regression F1: 0.9763868942395922\n",
      "Decision Tree PR: 0.9842157922256047\n",
      "Decision Tree F1: 0.976386469114581\n"
     ]
    }
   ],
   "source": [
    "print(\"Logistic Regression PR:\", log_regress_Acc)\n",
    "print(\"Logistic Regression F1:\", log_regress_F1)\n",
    "print(\"Decision Tree PR:\", decision_tree_Acc)\n",
    "print(\"Decision Tree F1:\", decision_tree_F1)"
   ]
  },
  {
   "cell_type": "code",
   "execution_count": 100,
   "id": "bd11b9d1",
   "metadata": {},
   "outputs": [
    {
     "name": "stdout",
     "output_type": "stream",
     "text": [
      "   label     count\n",
      "0    0.0  28839212\n",
      "1    1.0    461409\n",
      "Balanced dataset count: 923607\n"
     ]
    }
   ],
   "source": [
    "#Balanced the dataset 0 and 1\n",
    "\n",
    "# Count how many examples are in each class\n",
    "counts = final_classify_df.groupBy(\"label\").count().toPandas()\n",
    "print(counts)\n",
    "\n",
    "# Filter the minority and majority classes\n",
    "ones = final_classify_df.filter(F.col(\"label\") == 1.0)\n",
    "zeros = final_classify_df.filter(F.col(\"label\") == 0.0)\n",
    "\n",
    "# Get counts for each class\n",
    "ones_count = ones.count()\n",
    "zeros_count = zeros.count()\n",
    "\n",
    "# Calculate the fraction to sample from zeros\n",
    "fraction = ones_count / zeros_count if zeros_count else 0\n",
    "\n",
    "# Sample zeros to match ones count\n",
    "zeros_sampled = zeros.sample(withReplacement=False, fraction=fraction, seed=42)\n",
    "\n",
    "# Combine the two DataFrames to get a balanced dataset\n",
    "balanced_df = ones.union(zeros_sampled)\n",
    "print(\"Balanced dataset count:\", balanced_df.count())\n"
   ]
  },
  {
   "cell_type": "code",
   "execution_count": 101,
   "id": "c2008887",
   "metadata": {},
   "outputs": [
    {
     "name": "stdout",
     "output_type": "stream",
     "text": [
      "+-----+------+\n",
      "|label|count |\n",
      "+-----+------+\n",
      "|1.0  |461409|\n",
      "|0.0  |462198|\n",
      "+-----+------+\n",
      "\n"
     ]
    }
   ],
   "source": [
    "count_df = balanced_df.groupBy(\"label\").count()\n",
    "count_df.show(10, truncate=False)"
   ]
  },
  {
   "cell_type": "code",
   "execution_count": 102,
   "id": "46f4bf46",
   "metadata": {},
   "outputs": [],
   "source": [
    "train, test = balanced_df.randomSplit([.8, .2], seed=9)"
   ]
  },
  {
   "cell_type": "code",
   "execution_count": 103,
   "id": "fba0282c",
   "metadata": {},
   "outputs": [],
   "source": [
    "train = train.repartition(8).cache()\n",
    "test = test.repartition(8).cache()"
   ]
  },
  {
   "cell_type": "code",
   "execution_count": 104,
   "id": "1136f27a",
   "metadata": {},
   "outputs": [],
   "source": [
    "balanced_log_regress = LogisticRegression(labelCol = 'label', featuresCol = 'features')\n",
    "balanced_decision_tree = DecisionTreeClassifier(labelCol = 'label', featuresCol = 'features')"
   ]
  },
  {
   "cell_type": "code",
   "execution_count": 105,
   "id": "d5379eec",
   "metadata": {},
   "outputs": [],
   "source": [
    "balanced_log_regress_model = balanced_log_regress.fit(train)"
   ]
  },
  {
   "cell_type": "code",
   "execution_count": 106,
   "id": "a3690484",
   "metadata": {},
   "outputs": [],
   "source": [
    "balanced_decision_tree_model = balanced_decision_tree.fit(train)"
   ]
  },
  {
   "cell_type": "code",
   "execution_count": 107,
   "id": "c200ed7f",
   "metadata": {},
   "outputs": [
    {
     "name": "stdout",
     "output_type": "stream",
     "text": [
      "Train Accuracy:  0.6553512717467957\n",
      "Train F1:  0.6553277222150532\n"
     ]
    }
   ],
   "source": [
    "train_accuracy = evaluator_Acc.evaluate(balanced_log_regress_model.transform(train))\n",
    "print(\"Train Accuracy: \", train_accuracy)\n",
    "train_f1 = evaluator_F1.evaluate(balanced_log_regress_model.transform(train))\n",
    "print(\"Train F1: \", train_f1)"
   ]
  },
  {
   "cell_type": "code",
   "execution_count": 108,
   "id": "209f1ce7",
   "metadata": {},
   "outputs": [
    {
     "name": "stdout",
     "output_type": "stream",
     "text": [
      "Train Accuracy:  0.614417958085348\n",
      "Train F1:  0.6029578685941204\n"
     ]
    }
   ],
   "source": [
    "train_accuracy = evaluator_Acc.evaluate(balanced_decision_tree_model.transform(train))\n",
    "print(\"Train Accuracy: \", train_accuracy)\n",
    "train_f1 = evaluator_F1.evaluate(balanced_decision_tree_model.transform(train))\n",
    "print(\"Train F1: \", train_f1)"
   ]
  },
  {
   "cell_type": "code",
   "execution_count": 109,
   "id": "62026236",
   "metadata": {},
   "outputs": [],
   "source": [
    "balanced_log_regress_predictions = balanced_log_regress_model.transform(test)\n",
    "balanced_decision_tree_predictions = balanced_decision_tree_model.transform(test)"
   ]
  },
  {
   "cell_type": "code",
   "execution_count": 110,
   "id": "a06bfcc0",
   "metadata": {},
   "outputs": [
    {
     "name": "stdout",
     "output_type": "stream",
     "text": [
      "+----------+-----+\n",
      "|prediction|count|\n",
      "+----------+-----+\n",
      "|0.0       |93854|\n",
      "|1.0       |90966|\n",
      "+----------+-----+\n",
      "\n"
     ]
    }
   ],
   "source": [
    "count_val = balanced_log_regress_predictions.groupBy(\"prediction\").count()\n",
    "count_val.show(10, truncate=False)"
   ]
  },
  {
   "cell_type": "code",
   "execution_count": 111,
   "id": "bb5b64f2",
   "metadata": {},
   "outputs": [
    {
     "name": "stdout",
     "output_type": "stream",
     "text": [
      "+----------+-----+---------------------------------------------------------------------------------------+\n",
      "|prediction|label|features                                                                               |\n",
      "+----------+-----+---------------------------------------------------------------------------------------+\n",
      "|0.0       |1.0  |(712,[0,1,2,3,5,6,10,34,399],[1.3587012E9,5433.0,2107.0,2155.0,48.0,129.0,1.0,1.0,1.0])|\n",
      "|1.0       |1.0  |(712,[0,1,2,3,5,6,9,40,372],[1.3580964E9,721.0,920.0,1245.0,265.0,1389.0,1.0,1.0,1.0]) |\n",
      "|1.0       |1.0  |(712,[0,1,2,3,5,6,11,83,406],[1.3613796E9,5118.0,1400.0,1532.0,92.0,393.0,1.0,1.0,1.0])|\n",
      "|0.0       |1.0  |(712,[0,1,2,3,5,6,7,90,378],[1.3580964E9,1792.0,755.0,840.0,105.0,583.0,1.0,1.0,1.0])  |\n",
      "|0.0       |1.0  |(712,[0,1,2,3,5,6,22,23,455],[1.3613796E9,57.0,1435.0,1559.0,144.0,782.0,1.0,1.0,1.0]) |\n",
      "|1.0       |1.0  |(712,[0,1,2,3,5,6,11,91,371],[1.359306E9,6064.0,604.0,730.0,146.0,760.0,1.0,1.0,1.0])  |\n",
      "|1.0       |1.0  |(712,[0,1,2,3,5,6,7,64,389],[1.3625028E9,1548.0,1040.0,1140.0,60.0,255.0,1.0,1.0,1.0]) |\n",
      "|0.0       |1.0  |(712,[0,1,2,3,5,6,12,158,371],[1.361898E9,550.0,742.0,845.0,123.0,594.0,1.0,1.0,1.0])  |\n",
      "|1.0       |1.0  |(712,[0,1,2,3,5,6,11,38,393],[1.3613796E9,4636.0,929.0,1042.0,73.0,199.0,1.0,1.0,1.0]) |\n",
      "|0.0       |1.0  |(712,[0,1,2,3,5,6,8,33,393],[1.3625028E9,630.0,1546.0,1720.0,94.0,405.0,1.0,1.0,1.0])  |\n",
      "+----------+-----+---------------------------------------------------------------------------------------+\n",
      "only showing top 10 rows\n",
      "\n"
     ]
    }
   ],
   "source": [
    "balanced_log_regress_predictions.select(\"prediction\", \"label\", \"features\").show(10, truncate=False)"
   ]
  },
  {
   "cell_type": "code",
   "execution_count": 112,
   "id": "6a40ca72",
   "metadata": {},
   "outputs": [
    {
     "name": "stdout",
     "output_type": "stream",
     "text": [
      "Jumlah prediksi yang benar: 120826\n",
      "+-----------------------------------------------------------------------------------------+-----+--------------------------------------------+----------------------------------------+----------+\n",
      "|features                                                                                 |label|rawPrediction                               |probability                             |prediction|\n",
      "+-----------------------------------------------------------------------------------------+-----+--------------------------------------------+----------------------------------------+----------+\n",
      "|(712,[0,1,2,3,5,6,9,40,372],[1.3580964E9,721.0,920.0,1245.0,265.0,1389.0,1.0,1.0,1.0])   |1.0  |[-0.9730998268423708,0.9730998268423708]    |[0.2742630723242524,0.7257369276757476] |1.0       |\n",
      "|(712,[0,1,2,3,5,6,11,83,406],[1.3613796E9,5118.0,1400.0,1532.0,92.0,393.0,1.0,1.0,1.0])  |1.0  |[-0.44598608056365063,0.44598608056365063]  |[0.3903155340888267,0.6096844659111733] |1.0       |\n",
      "|(712,[0,1,2,3,5,6,11,91,371],[1.359306E9,6064.0,604.0,730.0,146.0,760.0,1.0,1.0,1.0])    |1.0  |[-0.8894750605277473,0.8894750605277473]    |[0.2912181683909825,0.7087818316090175] |1.0       |\n",
      "|(712,[0,1,2,3,5,6,7,64,389],[1.3625028E9,1548.0,1040.0,1140.0,60.0,255.0,1.0,1.0,1.0])   |1.0  |[-0.012919856323335699,0.012919856323335699]|[0.4967700808479399,0.5032299191520602] |1.0       |\n",
      "|(712,[0,1,2,3,5,6,11,38,393],[1.3613796E9,4636.0,929.0,1042.0,73.0,199.0,1.0,1.0,1.0])   |1.0  |[-1.837022351420362,1.837022351420362]      |[0.13740383456326963,0.8625961654367303]|1.0       |\n",
      "|(712,[0,1,2,3,5,6,11,24,471],[1.3603428E9,5827.0,1306.0,1550.0,104.0,607.0,1.0,1.0,1.0]) |1.0  |[-0.9635337805020563,0.9635337805020563]    |[0.27617123129669646,0.7238287687033036]|1.0       |\n",
      "|(712,[0,1,2,3,5,6,11,56,388],[1.3605156E9,5708.0,2110.0,2219.0,69.0,228.0,1.0,1.0,1.0])  |1.0  |[-1.8102665758571532,1.8102665758571532]    |[0.1406059107173645,0.8593940892826355] |1.0       |\n",
      "|(712,[0,1,2,3,5,6,7,59,390],[1.3618116E9,2058.0,805.0,930.0,85.0,405.0,1.0,1.0,1.0])     |1.0  |[-0.12606605143263727,0.12606605143263727]  |[0.4685251609862111,0.5314748390137889] |1.0       |\n",
      "|(712,[0,1,2,3,5,6,10,28,436],[1.3620708E9,5594.0,1022.0,1123.0,61.0,192.0,1.0,1.0,1.0])  |1.0  |[-0.38442825634705846,0.38442825634705846]  |[0.40505930101815546,0.5949406989818445]|1.0       |\n",
      "|(712,[0,1,2,3,5,6,11,101,385],[1.3586148E9,4538.0,1805.0,2000.0,115.0,605.0,1.0,1.0,1.0])|1.0  |[-1.4286399799860172,1.4286399799860172]    |[0.19331067955612524,0.8066893204438748]|1.0       |\n",
      "+-----------------------------------------------------------------------------------------+-----+--------------------------------------------+----------------------------------------+----------+\n",
      "only showing top 10 rows\n",
      "\n"
     ]
    }
   ],
   "source": [
    "# Menghitung True Positives (TP) dan True Negatives (TN)\n",
    "correct_predictions = balanced_log_regress_predictions.filter((balanced_log_regress_predictions.prediction == balanced_log_regress_predictions.label))\n",
    "\n",
    "\n",
    "correct_count = correct_predictions.count()\n",
    "\n",
    "\n",
    "print(f\"Jumlah prediksi yang benar: {correct_count}\")\n",
    "\n",
    "\n",
    "correct_predictions.show(10, truncate=False)\n"
   ]
  },
  {
   "cell_type": "code",
   "execution_count": 113,
   "id": "1b3ac27f",
   "metadata": {},
   "outputs": [],
   "source": [
    "balanced_log_regress_Acc = evaluator_Acc.evaluate(balanced_log_regress_predictions)\n",
    "balanced_decision_tree_Acc = evaluator_Acc.evaluate(balanced_decision_tree_predictions)\n",
    "balanced_log_regress_F1 = evaluator_F1.evaluate(balanced_log_regress_predictions)\n",
    "balanced_decision_tree_F1 = evaluator_F1.evaluate(balanced_decision_tree_predictions)"
   ]
  },
  {
   "cell_type": "code",
   "execution_count": 114,
   "id": "5db785dd",
   "metadata": {},
   "outputs": [
    {
     "name": "stdout",
     "output_type": "stream",
     "text": [
      "Logistic Regression PR: 0.653749594199762\n",
      "Logistic Regression F1: 0.6537285542437341\n",
      "Decision Tree PR: 0.6127096634563359\n",
      "Decision Tree F1: 0.6014983024344396\n"
     ]
    }
   ],
   "source": [
    "print(\"Logistic Regression PR:\", balanced_log_regress_Acc)\n",
    "print(\"Logistic Regression F1:\", balanced_log_regress_F1)\n",
    "print(\"Decision Tree PR:\", balanced_decision_tree_Acc)\n",
    "print(\"Decision Tree F1:\", balanced_decision_tree_F1)"
   ]
  },
  {
   "cell_type": "code",
   "execution_count": null,
   "id": "4b51ba2c-258c-408d-b1f4-61de98f76f7a",
   "metadata": {},
   "outputs": [],
   "source": []
  }
 ],
 "metadata": {
  "kernelspec": {
   "display_name": "Python 3 (ipykernel)",
   "language": "python",
   "name": "python3"
  },
  "language_info": {
   "codemirror_mode": {
    "name": "ipython",
    "version": 3
   },
   "file_extension": ".py",
   "mimetype": "text/x-python",
   "name": "python",
   "nbconvert_exporter": "python",
   "pygments_lexer": "ipython3",
   "version": "3.10.0"
  }
 },
 "nbformat": 4,
 "nbformat_minor": 5
}
